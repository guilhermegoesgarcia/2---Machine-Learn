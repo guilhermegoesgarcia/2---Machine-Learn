{
 "cells": [
  {
   "cell_type": "markdown",
   "metadata": {},
   "source": [
    "## Vamos utilizar um projeto anterior para fazermos a nossa validação ..."
   ]
  },
  {
   "cell_type": "code",
   "execution_count": 1,
   "metadata": {},
   "outputs": [
    {
     "data": {
      "text/html": [
       "<div>\n",
       "<style scoped>\n",
       "    .dataframe tbody tr th:only-of-type {\n",
       "        vertical-align: middle;\n",
       "    }\n",
       "\n",
       "    .dataframe tbody tr th {\n",
       "        vertical-align: top;\n",
       "    }\n",
       "\n",
       "    .dataframe thead th {\n",
       "        text-align: right;\n",
       "    }\n",
       "</style>\n",
       "<table border=\"1\" class=\"dataframe\">\n",
       "  <thead>\n",
       "    <tr style=\"text-align: right;\">\n",
       "      <th></th>\n",
       "      <th>Unnamed: 0</th>\n",
       "      <th>mileage_per_year</th>\n",
       "      <th>model_year</th>\n",
       "      <th>price</th>\n",
       "      <th>sold</th>\n",
       "    </tr>\n",
       "  </thead>\n",
       "  <tbody>\n",
       "    <tr>\n",
       "      <th>0</th>\n",
       "      <td>0</td>\n",
       "      <td>21801</td>\n",
       "      <td>2000</td>\n",
       "      <td>30941.02</td>\n",
       "      <td>yes</td>\n",
       "    </tr>\n",
       "    <tr>\n",
       "      <th>1</th>\n",
       "      <td>1</td>\n",
       "      <td>7843</td>\n",
       "      <td>1998</td>\n",
       "      <td>40557.96</td>\n",
       "      <td>yes</td>\n",
       "    </tr>\n",
       "    <tr>\n",
       "      <th>2</th>\n",
       "      <td>2</td>\n",
       "      <td>7109</td>\n",
       "      <td>2006</td>\n",
       "      <td>89627.50</td>\n",
       "      <td>no</td>\n",
       "    </tr>\n",
       "    <tr>\n",
       "      <th>3</th>\n",
       "      <td>3</td>\n",
       "      <td>26823</td>\n",
       "      <td>2015</td>\n",
       "      <td>95276.14</td>\n",
       "      <td>no</td>\n",
       "    </tr>\n",
       "    <tr>\n",
       "      <th>4</th>\n",
       "      <td>4</td>\n",
       "      <td>7935</td>\n",
       "      <td>2014</td>\n",
       "      <td>117384.68</td>\n",
       "      <td>yes</td>\n",
       "    </tr>\n",
       "  </tbody>\n",
       "</table>\n",
       "</div>"
      ],
      "text/plain": [
       "   Unnamed: 0  mileage_per_year  model_year      price sold\n",
       "0           0             21801        2000   30941.02  yes\n",
       "1           1              7843        1998   40557.96  yes\n",
       "2           2              7109        2006   89627.50   no\n",
       "3           3             26823        2015   95276.14   no\n",
       "4           4              7935        2014  117384.68  yes"
      ]
     },
     "execution_count": 1,
     "metadata": {},
     "output_type": "execute_result"
    }
   ],
   "source": [
    "\n",
    "import pandas as pd\n",
    "from datetime import datetime\n",
    "\n",
    "\n",
    "\n",
    "uri = \"https://gist.githubusercontent.com/guilhermesilveira/4d1d4a16ccbf6ea4e0a64a38a24ec884/raw/afd05cb0c796d18f3f5a6537053ded308ba94bf7/car-prices.csv\"\n",
    "dados = pd.read_csv(uri)\n",
    "dados.head()"
   ]
  },
  {
   "cell_type": "code",
   "execution_count": 2,
   "metadata": {},
   "outputs": [
    {
     "data": {
      "text/html": [
       "<div>\n",
       "<style scoped>\n",
       "    .dataframe tbody tr th:only-of-type {\n",
       "        vertical-align: middle;\n",
       "    }\n",
       "\n",
       "    .dataframe tbody tr th {\n",
       "        vertical-align: top;\n",
       "    }\n",
       "\n",
       "    .dataframe thead th {\n",
       "        text-align: right;\n",
       "    }\n",
       "</style>\n",
       "<table border=\"1\" class=\"dataframe\">\n",
       "  <thead>\n",
       "    <tr style=\"text-align: right;\">\n",
       "      <th></th>\n",
       "      <th>preco</th>\n",
       "      <th>vendido</th>\n",
       "      <th>idade_do_modelo</th>\n",
       "      <th>km_por_ano</th>\n",
       "    </tr>\n",
       "  </thead>\n",
       "  <tbody>\n",
       "    <tr>\n",
       "      <th>0</th>\n",
       "      <td>30941.02</td>\n",
       "      <td>1</td>\n",
       "      <td>20</td>\n",
       "      <td>35085.22134</td>\n",
       "    </tr>\n",
       "    <tr>\n",
       "      <th>1</th>\n",
       "      <td>40557.96</td>\n",
       "      <td>1</td>\n",
       "      <td>22</td>\n",
       "      <td>12622.05362</td>\n",
       "    </tr>\n",
       "    <tr>\n",
       "      <th>2</th>\n",
       "      <td>89627.50</td>\n",
       "      <td>0</td>\n",
       "      <td>14</td>\n",
       "      <td>11440.79806</td>\n",
       "    </tr>\n",
       "    <tr>\n",
       "      <th>3</th>\n",
       "      <td>95276.14</td>\n",
       "      <td>0</td>\n",
       "      <td>5</td>\n",
       "      <td>43167.32682</td>\n",
       "    </tr>\n",
       "    <tr>\n",
       "      <th>4</th>\n",
       "      <td>117384.68</td>\n",
       "      <td>1</td>\n",
       "      <td>6</td>\n",
       "      <td>12770.11290</td>\n",
       "    </tr>\n",
       "  </tbody>\n",
       "</table>\n",
       "</div>"
      ],
      "text/plain": [
       "       preco  vendido  idade_do_modelo   km_por_ano\n",
       "0   30941.02        1               20  35085.22134\n",
       "1   40557.96        1               22  12622.05362\n",
       "2   89627.50        0               14  11440.79806\n",
       "3   95276.14        0                5  43167.32682\n",
       "4  117384.68        1                6  12770.11290"
      ]
     },
     "execution_count": 2,
     "metadata": {},
     "output_type": "execute_result"
    }
   ],
   "source": [
    "# ___Tratando a tabela___\n",
    "\n",
    "# Renomeando colunas\n",
    "a_renomear = {\n",
    "    'mileage_per_year' : 'milhas_por_ano',\n",
    "    'model_year' : 'ano_do_modelo',\n",
    "    'price' : 'preco',\n",
    "    'sold' : 'vendido'\n",
    "}\n",
    "dados = dados.rename(columns=a_renomear)\n",
    "\n",
    "# Resignificando informações para 0/1\n",
    "a_trocar = {\n",
    "    'no' : 0,\n",
    "    'yes' : 1\n",
    "}\n",
    "dados.vendido = dados.vendido.map(a_trocar)\n",
    "\n",
    "# Alterando formato das datas\n",
    "ano_atual = datetime.today().year\n",
    "dados['idade_do_modelo'] = ano_atual - dados.ano_do_modelo\n",
    "\n",
    "# Transformando de milha/ano para Km/ano\n",
    "dados['km_por_ano'] = dados.milhas_por_ano * 1.60934\n",
    "\n",
    "# Retirando colunas que não vamos usar\n",
    "dados = dados.drop(columns = [\"Unnamed: 0\", \"milhas_por_ano\",\"ano_do_modelo\"], axis=1)\n",
    "\n",
    "\n",
    "dados.head()"
   ]
  },
  {
   "cell_type": "code",
   "execution_count": 3,
   "metadata": {},
   "outputs": [],
   "source": [
    "#Importando bibliotecas para gerar modelo preditivo\n",
    "\n",
    "import numpy as np\n",
    "from sklearn.model_selection import train_test_split\n",
    "from sklearn.svm import LinearSVC\n",
    "from sklearn.metrics import accuracy_score\n",
    "\n",
    "#Biblioteca - Taxa de acerto\n",
    "from sklearn.dummy import DummyClassifier\n",
    "\n",
    "# Biblioteca - Mudança de escala\n",
    "from sklearn.preprocessing import StandardScaler\n",
    "from sklearn.svm import SVC\n",
    "\n",
    "\n",
    "# Biblioteca - Arvore de decisão\n",
    "from sklearn.tree import DecisionTreeClassifier\n",
    "\n",
    "# Biblioteca para fazer para plotar arvore decião\n",
    "from sklearn.tree import export_graphviz\n",
    "import graphviz"
   ]
  },
  {
   "cell_type": "markdown",
   "metadata": {},
   "source": [
    "### Modelo 1 - Previsão linear"
   ]
  },
  {
   "cell_type": "code",
   "execution_count": 4,
   "metadata": {},
   "outputs": [
    {
     "name": "stdout",
     "output_type": "stream",
     "text": [
      "Treinaremos com 7500 elementos e testaremos com 2500 elementos\n",
      "A acurácia foi 58.00%\n"
     ]
    },
    {
     "name": "stderr",
     "output_type": "stream",
     "text": [
      "C:\\Users\\Guilherme\\Anaconda3\\lib\\site-packages\\sklearn\\svm\\_base.py:977: ConvergenceWarning: Liblinear failed to converge, increase the number of iterations.\n",
      "  \"the number of iterations.\", ConvergenceWarning)\n"
     ]
    }
   ],
   "source": [
    "x = dados[[\"preco\", \"idade_do_modelo\",\"km_por_ano\"]]\n",
    "y = dados[\"vendido\"]\n",
    "\n",
    "SEED = 5\n",
    "np.random.seed(SEED)\n",
    "treino_x, teste_x, treino_y, teste_y = train_test_split(x, y, test_size = 0.25,\n",
    "                                                         stratify = y)\n",
    "print(\"Treinaremos com %d elementos e testaremos com %d elementos\" % (len(treino_x), len(teste_x)))\n",
    "\n",
    "modelo = LinearSVC()\n",
    "modelo.fit(treino_x, treino_y)\n",
    "previsoes = modelo.predict(teste_x)\n",
    "\n",
    "acuracia = accuracy_score(teste_y, previsoes) * 100\n",
    "print(\"A acurácia foi %.2f%%\" % acuracia)"
   ]
  },
  {
   "cell_type": "code",
   "execution_count": 5,
   "metadata": {},
   "outputs": [
    {
     "name": "stderr",
     "output_type": "stream",
     "text": [
      "C:\\Users\\Guilherme\\Anaconda3\\lib\\site-packages\\sklearn\\dummy.py:132: FutureWarning: The default value of strategy will change from stratified to prior in 0.24.\n",
      "  \"stratified to prior in 0.24.\", FutureWarning)\n"
     ]
    }
   ],
   "source": [
    "dummy_stratified = DummyClassifier()\n",
    "dummy_stratified.fit(treino_x, treino_y)\n",
    "acuracia = dummy_stratified.score(teste_x, teste_y) * 100\n"
   ]
  },
  {
   "cell_type": "code",
   "execution_count": 6,
   "metadata": {},
   "outputs": [
    {
     "name": "stdout",
     "output_type": "stream",
     "text": [
      "A acurácia do dummy mostfrequent foi 50.68%\n"
     ]
    }
   ],
   "source": [
    "dummy_mostfrequent = DummyClassifier()\n",
    "dummy_mostfrequent.fit(treino_x, treino_y)\n",
    "acuracia = dummy_mostfrequent.score(teste_x, teste_y) * 100\n",
    "\n",
    "print(\"A acurácia do dummy mostfrequent foi %.2f%%\" % acuracia)"
   ]
  },
  {
   "cell_type": "markdown",
   "metadata": {},
   "source": [
    "### Pré- processamento - Mudança de escala"
   ]
  },
  {
   "cell_type": "code",
   "execution_count": 7,
   "metadata": {},
   "outputs": [
    {
     "name": "stdout",
     "output_type": "stream",
     "text": [
      "Treinaremos com 7500 elementos e testaremos com 2500 elementos\n",
      "A acurácia foi 77.48%\n"
     ]
    }
   ],
   "source": [
    "\n",
    "\n",
    "SEED = 5\n",
    "np.random.seed(SEED)\n",
    "raw_treino_x, raw_teste_x, treino_y, teste_y = train_test_split(x, y, test_size = 0.25,\n",
    "                                                         stratify = y)\n",
    "print(\"Treinaremos com %d elementos e testaremos com %d elementos\" % (len(treino_x), len(teste_x)))\n",
    "\n",
    "scaler = StandardScaler()\n",
    "scaler.fit(raw_treino_x)\n",
    "treino_x = scaler.transform(raw_treino_x)\n",
    "teste_x = scaler.transform(raw_teste_x)\n",
    "\n",
    "modelo = SVC()\n",
    "modelo.fit(treino_x, treino_y)\n",
    "previsoes = modelo.predict(teste_x)\n",
    "\n",
    "acuracia = accuracy_score(teste_y, previsoes) * 100\n",
    "print(\"A acurácia foi %.2f%%\" % acuracia)"
   ]
  },
  {
   "cell_type": "markdown",
   "metadata": {},
   "source": [
    "### Modelo de Arvore de Decisão"
   ]
  },
  {
   "cell_type": "code",
   "execution_count": 8,
   "metadata": {},
   "outputs": [
    {
     "name": "stdout",
     "output_type": "stream",
     "text": [
      "Treinaremos com 7500 elementos e testaremos com 2500 elementos\n",
      "A acurácia foi 79.28%\n"
     ]
    }
   ],
   "source": [
    "SEED = 5\n",
    "np.random.seed(SEED)\n",
    "raw_treino_x, raw_teste_x, treino_y, teste_y = train_test_split(x, y, test_size = 0.25,\n",
    "                                                         stratify = y)\n",
    "print(\"Treinaremos com %d elementos e testaremos com %d elementos\" % (len(treino_x), len(teste_x)))\n",
    "\n",
    "modelo = DecisionTreeClassifier(max_depth=3)\n",
    "modelo.fit(raw_treino_x, treino_y)\n",
    "previsoes = modelo.predict(raw_teste_x)\n",
    "\n",
    "acuracia = accuracy_score(teste_y, previsoes) * 100\n",
    "print(\"A acurácia foi %.2f%%\" % acuracia)"
   ]
  },
  {
   "cell_type": "markdown",
   "metadata": {},
   "source": [
    "### Plotando Arvore de decisão"
   ]
  },
  {
   "cell_type": "code",
   "execution_count": 9,
   "metadata": {},
   "outputs": [
    {
     "data": {
      "image/svg+xml": [
       "<?xml version=\"1.0\" encoding=\"UTF-8\" standalone=\"no\"?>\r\n",
       "<!DOCTYPE svg PUBLIC \"-//W3C//DTD SVG 1.1//EN\"\r\n",
       " \"http://www.w3.org/Graphics/SVG/1.1/DTD/svg11.dtd\">\r\n",
       "<!-- Generated by graphviz version 2.38.0 (20140413.2041)\r\n",
       " -->\r\n",
       "<!-- Title: Tree Pages: 1 -->\r\n",
       "<svg width=\"883pt\" height=\"433pt\"\r\n",
       " viewBox=\"0.00 0.00 883.00 433.00\" xmlns=\"http://www.w3.org/2000/svg\" xmlns:xlink=\"http://www.w3.org/1999/xlink\">\r\n",
       "<g id=\"graph0\" class=\"graph\" transform=\"scale(1 1) rotate(0) translate(4 429)\">\r\n",
       "<title>Tree</title>\r\n",
       "<polygon fill=\"white\" stroke=\"none\" points=\"-4,4 -4,-429 879,-429 879,4 -4,4\"/>\r\n",
       "<!-- 0 -->\r\n",
       "<g id=\"node1\" class=\"node\"><title>0</title>\r\n",
       "<path fill=\"#c8e4f8\" stroke=\"black\" d=\"M393.5,-425C393.5,-425 270.5,-425 270.5,-425 264.5,-425 258.5,-419 258.5,-413 258.5,-413 258.5,-354 258.5,-354 258.5,-348 264.5,-342 270.5,-342 270.5,-342 393.5,-342 393.5,-342 399.5,-342 405.5,-348 405.5,-354 405.5,-354 405.5,-413 405.5,-413 405.5,-419 399.5,-425 393.5,-425\"/>\r\n",
       "<text text-anchor=\"middle\" x=\"332\" y=\"-409.8\" font-family=\"Helvetica,sans-Serif\" font-size=\"14.00\">preco &lt;= 59999.074</text>\r\n",
       "<text text-anchor=\"middle\" x=\"332\" y=\"-394.8\" font-family=\"Helvetica,sans-Serif\" font-size=\"14.00\">gini = 0.487</text>\r\n",
       "<text text-anchor=\"middle\" x=\"332\" y=\"-379.8\" font-family=\"Helvetica,sans-Serif\" font-size=\"14.00\">samples = 7500</text>\r\n",
       "<text text-anchor=\"middle\" x=\"332\" y=\"-364.8\" font-family=\"Helvetica,sans-Serif\" font-size=\"14.00\">value = [3150, 4350]</text>\r\n",
       "<text text-anchor=\"middle\" x=\"332\" y=\"-349.8\" font-family=\"Helvetica,sans-Serif\" font-size=\"14.00\">class = sim</text>\r\n",
       "</g>\r\n",
       "<!-- 1 -->\r\n",
       "<g id=\"node2\" class=\"node\"><title>1</title>\r\n",
       "<path fill=\"#52aae8\" stroke=\"black\" d=\"M275.5,-306C275.5,-306 152.5,-306 152.5,-306 146.5,-306 140.5,-300 140.5,-294 140.5,-294 140.5,-235 140.5,-235 140.5,-229 146.5,-223 152.5,-223 152.5,-223 275.5,-223 275.5,-223 281.5,-223 287.5,-229 287.5,-235 287.5,-235 287.5,-294 287.5,-294 287.5,-300 281.5,-306 275.5,-306\"/>\r\n",
       "<text text-anchor=\"middle\" x=\"214\" y=\"-290.8\" font-family=\"Helvetica,sans-Serif\" font-size=\"14.00\">preco &lt;= 40070.154</text>\r\n",
       "<text text-anchor=\"middle\" x=\"214\" y=\"-275.8\" font-family=\"Helvetica,sans-Serif\" font-size=\"14.00\">gini = 0.202</text>\r\n",
       "<text text-anchor=\"middle\" x=\"214\" y=\"-260.8\" font-family=\"Helvetica,sans-Serif\" font-size=\"14.00\">samples = 3248</text>\r\n",
       "<text text-anchor=\"middle\" x=\"214\" y=\"-245.8\" font-family=\"Helvetica,sans-Serif\" font-size=\"14.00\">value = [370, 2878]</text>\r\n",
       "<text text-anchor=\"middle\" x=\"214\" y=\"-230.8\" font-family=\"Helvetica,sans-Serif\" font-size=\"14.00\">class = sim</text>\r\n",
       "</g>\r\n",
       "<!-- 0&#45;&gt;1 -->\r\n",
       "<g id=\"edge1\" class=\"edge\"><title>0&#45;&gt;1</title>\r\n",
       "<path fill=\"none\" stroke=\"black\" d=\"M291.06,-341.907C281.725,-332.651 271.721,-322.732 262.117,-313.209\"/>\r\n",
       "<polygon fill=\"black\" stroke=\"black\" points=\"264.433,-310.576 254.867,-306.021 259.504,-315.547 264.433,-310.576\"/>\r\n",
       "<text text-anchor=\"middle\" x=\"254.974\" y=\"-327.321\" font-family=\"Helvetica,sans-Serif\" font-size=\"14.00\">True</text>\r\n",
       "</g>\r\n",
       "<!-- 6 -->\r\n",
       "<g id=\"node7\" class=\"node\"><title>6</title>\r\n",
       "<path fill=\"#f3c4a2\" stroke=\"black\" d=\"M534,-306C534,-306 368,-306 368,-306 362,-306 356,-300 356,-294 356,-294 356,-235 356,-235 356,-229 362,-223 368,-223 368,-223 534,-223 534,-223 540,-223 546,-229 546,-235 546,-235 546,-294 546,-294 546,-300 540,-306 534,-306\"/>\r\n",
       "<text text-anchor=\"middle\" x=\"451\" y=\"-290.8\" font-family=\"Helvetica,sans-Serif\" font-size=\"14.00\">km_por_ano &lt;= 24112.741</text>\r\n",
       "<text text-anchor=\"middle\" x=\"451\" y=\"-275.8\" font-family=\"Helvetica,sans-Serif\" font-size=\"14.00\">gini = 0.453</text>\r\n",
       "<text text-anchor=\"middle\" x=\"451\" y=\"-260.8\" font-family=\"Helvetica,sans-Serif\" font-size=\"14.00\">samples = 4252</text>\r\n",
       "<text text-anchor=\"middle\" x=\"451\" y=\"-245.8\" font-family=\"Helvetica,sans-Serif\" font-size=\"14.00\">value = [2780, 1472]</text>\r\n",
       "<text text-anchor=\"middle\" x=\"451\" y=\"-230.8\" font-family=\"Helvetica,sans-Serif\" font-size=\"14.00\">class = não</text>\r\n",
       "</g>\r\n",
       "<!-- 0&#45;&gt;6 -->\r\n",
       "<g id=\"edge6\" class=\"edge\"><title>0&#45;&gt;6</title>\r\n",
       "<path fill=\"none\" stroke=\"black\" d=\"M373.286,-341.907C382.701,-332.651 392.789,-322.732 402.476,-313.209\"/>\r\n",
       "<polygon fill=\"black\" stroke=\"black\" points=\"405.11,-315.527 409.787,-306.021 400.202,-310.536 405.11,-315.527\"/>\r\n",
       "<text text-anchor=\"middle\" x=\"409.575\" y=\"-327.32\" font-family=\"Helvetica,sans-Serif\" font-size=\"14.00\">False</text>\r\n",
       "</g>\r\n",
       "<!-- 2 -->\r\n",
       "<g id=\"node3\" class=\"node\"><title>2</title>\r\n",
       "<path fill=\"#399de5\" stroke=\"black\" d=\"M110,-179.5C110,-179.5 12,-179.5 12,-179.5 6,-179.5 7.10543e-015,-173.5 7.10543e-015,-167.5 7.10543e-015,-167.5 7.10543e-015,-123.5 7.10543e-015,-123.5 7.10543e-015,-117.5 6,-111.5 12,-111.5 12,-111.5 110,-111.5 110,-111.5 116,-111.5 122,-117.5 122,-123.5 122,-123.5 122,-167.5 122,-167.5 122,-173.5 116,-179.5 110,-179.5\"/>\r\n",
       "<text text-anchor=\"middle\" x=\"61\" y=\"-164.3\" font-family=\"Helvetica,sans-Serif\" font-size=\"14.00\">gini = 0.0</text>\r\n",
       "<text text-anchor=\"middle\" x=\"61\" y=\"-149.3\" font-family=\"Helvetica,sans-Serif\" font-size=\"14.00\">samples = 1441</text>\r\n",
       "<text text-anchor=\"middle\" x=\"61\" y=\"-134.3\" font-family=\"Helvetica,sans-Serif\" font-size=\"14.00\">value = [0, 1441]</text>\r\n",
       "<text text-anchor=\"middle\" x=\"61\" y=\"-119.3\" font-family=\"Helvetica,sans-Serif\" font-size=\"14.00\">class = sim</text>\r\n",
       "</g>\r\n",
       "<!-- 1&#45;&gt;2 -->\r\n",
       "<g id=\"edge2\" class=\"edge\"><title>1&#45;&gt;2</title>\r\n",
       "<path fill=\"none\" stroke=\"black\" d=\"M160.917,-222.907C145.189,-210.88 127.999,-197.735 112.38,-185.791\"/>\r\n",
       "<polygon fill=\"black\" stroke=\"black\" points=\"114.442,-182.961 104.372,-179.667 110.19,-188.522 114.442,-182.961\"/>\r\n",
       "</g>\r\n",
       "<!-- 3 -->\r\n",
       "<g id=\"node4\" class=\"node\"><title>3</title>\r\n",
       "<path fill=\"#6cb6ec\" stroke=\"black\" d=\"M275.5,-187C275.5,-187 152.5,-187 152.5,-187 146.5,-187 140.5,-181 140.5,-175 140.5,-175 140.5,-116 140.5,-116 140.5,-110 146.5,-104 152.5,-104 152.5,-104 275.5,-104 275.5,-104 281.5,-104 287.5,-110 287.5,-116 287.5,-116 287.5,-175 287.5,-175 287.5,-181 281.5,-187 275.5,-187\"/>\r\n",
       "<text text-anchor=\"middle\" x=\"214\" y=\"-171.8\" font-family=\"Helvetica,sans-Serif\" font-size=\"14.00\">preco &lt;= 40723.646</text>\r\n",
       "<text text-anchor=\"middle\" x=\"214\" y=\"-156.8\" font-family=\"Helvetica,sans-Serif\" font-size=\"14.00\">gini = 0.326</text>\r\n",
       "<text text-anchor=\"middle\" x=\"214\" y=\"-141.8\" font-family=\"Helvetica,sans-Serif\" font-size=\"14.00\">samples = 1807</text>\r\n",
       "<text text-anchor=\"middle\" x=\"214\" y=\"-126.8\" font-family=\"Helvetica,sans-Serif\" font-size=\"14.00\">value = [370, 1437]</text>\r\n",
       "<text text-anchor=\"middle\" x=\"214\" y=\"-111.8\" font-family=\"Helvetica,sans-Serif\" font-size=\"14.00\">class = sim</text>\r\n",
       "</g>\r\n",
       "<!-- 1&#45;&gt;3 -->\r\n",
       "<g id=\"edge3\" class=\"edge\"><title>1&#45;&gt;3</title>\r\n",
       "<path fill=\"none\" stroke=\"black\" d=\"M214,-222.907C214,-214.649 214,-205.864 214,-197.302\"/>\r\n",
       "<polygon fill=\"black\" stroke=\"black\" points=\"217.5,-197.021 214,-187.021 210.5,-197.021 217.5,-197.021\"/>\r\n",
       "</g>\r\n",
       "<!-- 4 -->\r\n",
       "<g id=\"node5\" class=\"node\"><title>4</title>\r\n",
       "<path fill=\"#9acdf2\" stroke=\"black\" d=\"M114.5,-68C114.5,-68 25.5,-68 25.5,-68 19.5,-68 13.5,-62 13.5,-56 13.5,-56 13.5,-12 13.5,-12 13.5,-6 19.5,-0 25.5,-0 25.5,-0 114.5,-0 114.5,-0 120.5,-0 126.5,-6 126.5,-12 126.5,-12 126.5,-56 126.5,-56 126.5,-62 120.5,-68 114.5,-68\"/>\r\n",
       "<text text-anchor=\"middle\" x=\"70\" y=\"-52.8\" font-family=\"Helvetica,sans-Serif\" font-size=\"14.00\">gini = 0.441</text>\r\n",
       "<text text-anchor=\"middle\" x=\"70\" y=\"-37.8\" font-family=\"Helvetica,sans-Serif\" font-size=\"14.00\">samples = 61</text>\r\n",
       "<text text-anchor=\"middle\" x=\"70\" y=\"-22.8\" font-family=\"Helvetica,sans-Serif\" font-size=\"14.00\">value = [20, 41]</text>\r\n",
       "<text text-anchor=\"middle\" x=\"70\" y=\"-7.8\" font-family=\"Helvetica,sans-Serif\" font-size=\"14.00\">class = sim</text>\r\n",
       "</g>\r\n",
       "<!-- 3&#45;&gt;4 -->\r\n",
       "<g id=\"edge4\" class=\"edge\"><title>3&#45;&gt;4</title>\r\n",
       "<path fill=\"none\" stroke=\"black\" d=\"M160.38,-103.726C147.785,-94.1494 134.387,-83.9611 121.871,-74.4438\"/>\r\n",
       "<polygon fill=\"black\" stroke=\"black\" points=\"123.87,-71.5666 113.791,-68.2996 119.633,-77.1386 123.87,-71.5666\"/>\r\n",
       "</g>\r\n",
       "<!-- 5 -->\r\n",
       "<g id=\"node6\" class=\"node\"><title>5</title>\r\n",
       "<path fill=\"#6bb6ec\" stroke=\"black\" d=\"M271,-68C271,-68 157,-68 157,-68 151,-68 145,-62 145,-56 145,-56 145,-12 145,-12 145,-6 151,-0 157,-0 157,-0 271,-0 271,-0 277,-0 283,-6 283,-12 283,-12 283,-56 283,-56 283,-62 277,-68 271,-68\"/>\r\n",
       "<text text-anchor=\"middle\" x=\"214\" y=\"-52.8\" font-family=\"Helvetica,sans-Serif\" font-size=\"14.00\">gini = 0.321</text>\r\n",
       "<text text-anchor=\"middle\" x=\"214\" y=\"-37.8\" font-family=\"Helvetica,sans-Serif\" font-size=\"14.00\">samples = 1746</text>\r\n",
       "<text text-anchor=\"middle\" x=\"214\" y=\"-22.8\" font-family=\"Helvetica,sans-Serif\" font-size=\"14.00\">value = [350, 1396]</text>\r\n",
       "<text text-anchor=\"middle\" x=\"214\" y=\"-7.8\" font-family=\"Helvetica,sans-Serif\" font-size=\"14.00\">class = sim</text>\r\n",
       "</g>\r\n",
       "<!-- 3&#45;&gt;5 -->\r\n",
       "<g id=\"edge5\" class=\"edge\"><title>3&#45;&gt;5</title>\r\n",
       "<path fill=\"none\" stroke=\"black\" d=\"M214,-103.726C214,-95.5175 214,-86.8595 214,-78.56\"/>\r\n",
       "<polygon fill=\"black\" stroke=\"black\" points=\"217.5,-78.2996 214,-68.2996 210.5,-78.2996 217.5,-78.2996\"/>\r\n",
       "</g>\r\n",
       "<!-- 7 -->\r\n",
       "<g id=\"node8\" class=\"node\"><title>7</title>\r\n",
       "<path fill=\"#fcf0e7\" stroke=\"black\" d=\"M512,-187C512,-187 390,-187 390,-187 384,-187 378,-181 378,-175 378,-175 378,-116 378,-116 378,-110 384,-104 390,-104 390,-104 512,-104 512,-104 518,-104 524,-110 524,-116 524,-116 524,-175 524,-175 524,-181 518,-187 512,-187\"/>\r\n",
       "<text text-anchor=\"middle\" x=\"451\" y=\"-171.8\" font-family=\"Helvetica,sans-Serif\" font-size=\"14.00\">preco &lt;= 99974.41</text>\r\n",
       "<text text-anchor=\"middle\" x=\"451\" y=\"-156.8\" font-family=\"Helvetica,sans-Serif\" font-size=\"14.00\">gini = 0.498</text>\r\n",
       "<text text-anchor=\"middle\" x=\"451\" y=\"-141.8\" font-family=\"Helvetica,sans-Serif\" font-size=\"14.00\">samples = 2649</text>\r\n",
       "<text text-anchor=\"middle\" x=\"451\" y=\"-126.8\" font-family=\"Helvetica,sans-Serif\" font-size=\"14.00\">value = [1409, 1240]</text>\r\n",
       "<text text-anchor=\"middle\" x=\"451\" y=\"-111.8\" font-family=\"Helvetica,sans-Serif\" font-size=\"14.00\">class = não</text>\r\n",
       "</g>\r\n",
       "<!-- 6&#45;&gt;7 -->\r\n",
       "<g id=\"edge7\" class=\"edge\"><title>6&#45;&gt;7</title>\r\n",
       "<path fill=\"none\" stroke=\"black\" d=\"M451,-222.907C451,-214.649 451,-205.864 451,-197.302\"/>\r\n",
       "<polygon fill=\"black\" stroke=\"black\" points=\"454.5,-197.021 451,-187.021 447.5,-197.021 454.5,-197.021\"/>\r\n",
       "</g>\r\n",
       "<!-- 10 -->\r\n",
       "<g id=\"node11\" class=\"node\"><title>10</title>\r\n",
       "<path fill=\"#e9965b\" stroke=\"black\" d=\"M735.5,-187C735.5,-187 604.5,-187 604.5,-187 598.5,-187 592.5,-181 592.5,-175 592.5,-175 592.5,-116 592.5,-116 592.5,-110 598.5,-104 604.5,-104 604.5,-104 735.5,-104 735.5,-104 741.5,-104 747.5,-110 747.5,-116 747.5,-116 747.5,-175 747.5,-175 747.5,-181 741.5,-187 735.5,-187\"/>\r\n",
       "<text text-anchor=\"middle\" x=\"670\" y=\"-171.8\" font-family=\"Helvetica,sans-Serif\" font-size=\"14.00\">preco &lt;= 100076.957</text>\r\n",
       "<text text-anchor=\"middle\" x=\"670\" y=\"-156.8\" font-family=\"Helvetica,sans-Serif\" font-size=\"14.00\">gini = 0.248</text>\r\n",
       "<text text-anchor=\"middle\" x=\"670\" y=\"-141.8\" font-family=\"Helvetica,sans-Serif\" font-size=\"14.00\">samples = 1603</text>\r\n",
       "<text text-anchor=\"middle\" x=\"670\" y=\"-126.8\" font-family=\"Helvetica,sans-Serif\" font-size=\"14.00\">value = [1371, 232]</text>\r\n",
       "<text text-anchor=\"middle\" x=\"670\" y=\"-111.8\" font-family=\"Helvetica,sans-Serif\" font-size=\"14.00\">class = não</text>\r\n",
       "</g>\r\n",
       "<!-- 6&#45;&gt;10 -->\r\n",
       "<g id=\"edge10\" class=\"edge\"><title>6&#45;&gt;10</title>\r\n",
       "<path fill=\"none\" stroke=\"black\" d=\"M526.981,-222.907C545.751,-212.879 565.976,-202.075 585.139,-191.837\"/>\r\n",
       "<polygon fill=\"black\" stroke=\"black\" points=\"586.982,-194.82 594.153,-187.021 583.684,-188.646 586.982,-194.82\"/>\r\n",
       "</g>\r\n",
       "<!-- 8 -->\r\n",
       "<g id=\"node9\" class=\"node\"><title>8</title>\r\n",
       "<path fill=\"#f9e0cf\" stroke=\"black\" d=\"M427,-68C427,-68 313,-68 313,-68 307,-68 301,-62 301,-56 301,-56 301,-12 301,-12 301,-6 307,-0 313,-0 313,-0 427,-0 427,-0 433,-0 439,-6 439,-12 439,-12 439,-56 439,-56 439,-62 433,-68 427,-68\"/>\r\n",
       "<text text-anchor=\"middle\" x=\"370\" y=\"-52.8\" font-family=\"Helvetica,sans-Serif\" font-size=\"14.00\">gini = 0.49</text>\r\n",
       "<text text-anchor=\"middle\" x=\"370\" y=\"-37.8\" font-family=\"Helvetica,sans-Serif\" font-size=\"14.00\">samples = 2223</text>\r\n",
       "<text text-anchor=\"middle\" x=\"370\" y=\"-22.8\" font-family=\"Helvetica,sans-Serif\" font-size=\"14.00\">value = [1266, 957]</text>\r\n",
       "<text text-anchor=\"middle\" x=\"370\" y=\"-7.8\" font-family=\"Helvetica,sans-Serif\" font-size=\"14.00\">class = não</text>\r\n",
       "</g>\r\n",
       "<!-- 7&#45;&gt;8 -->\r\n",
       "<g id=\"edge8\" class=\"edge\"><title>7&#45;&gt;8</title>\r\n",
       "<path fill=\"none\" stroke=\"black\" d=\"M420.839,-103.726C414.227,-94.7878 407.221,-85.3168 400.592,-76.3558\"/>\r\n",
       "<polygon fill=\"black\" stroke=\"black\" points=\"403.393,-74.2576 394.633,-68.2996 397.766,-78.4206 403.393,-74.2576\"/>\r\n",
       "</g>\r\n",
       "<!-- 9 -->\r\n",
       "<g id=\"node10\" class=\"node\"><title>9</title>\r\n",
       "<path fill=\"#9dcff2\" stroke=\"black\" d=\"M575,-68C575,-68 469,-68 469,-68 463,-68 457,-62 457,-56 457,-56 457,-12 457,-12 457,-6 463,-0 469,-0 469,-0 575,-0 575,-0 581,-0 587,-6 587,-12 587,-12 587,-56 587,-56 587,-62 581,-68 575,-68\"/>\r\n",
       "<text text-anchor=\"middle\" x=\"522\" y=\"-52.8\" font-family=\"Helvetica,sans-Serif\" font-size=\"14.00\">gini = 0.446</text>\r\n",
       "<text text-anchor=\"middle\" x=\"522\" y=\"-37.8\" font-family=\"Helvetica,sans-Serif\" font-size=\"14.00\">samples = 426</text>\r\n",
       "<text text-anchor=\"middle\" x=\"522\" y=\"-22.8\" font-family=\"Helvetica,sans-Serif\" font-size=\"14.00\">value = [143, 283]</text>\r\n",
       "<text text-anchor=\"middle\" x=\"522\" y=\"-7.8\" font-family=\"Helvetica,sans-Serif\" font-size=\"14.00\">class = sim</text>\r\n",
       "</g>\r\n",
       "<!-- 7&#45;&gt;9 -->\r\n",
       "<g id=\"edge9\" class=\"edge\"><title>7&#45;&gt;9</title>\r\n",
       "<path fill=\"none\" stroke=\"black\" d=\"M477.438,-103.726C483.115,-94.9703 489.124,-85.7032 494.829,-76.9051\"/>\r\n",
       "<polygon fill=\"black\" stroke=\"black\" points=\"497.905,-78.5943 500.408,-68.2996 492.031,-74.786 497.905,-78.5943\"/>\r\n",
       "</g>\r\n",
       "<!-- 11 -->\r\n",
       "<g id=\"node12\" class=\"node\"><title>11</title>\r\n",
       "<path fill=\"#e68742\" stroke=\"black\" d=\"M723,-68C723,-68 617,-68 617,-68 611,-68 605,-62 605,-56 605,-56 605,-12 605,-12 605,-6 611,-0 617,-0 617,-0 723,-0 723,-0 729,-0 735,-6 735,-12 735,-12 735,-56 735,-56 735,-62 729,-68 723,-68\"/>\r\n",
       "<text text-anchor=\"middle\" x=\"670\" y=\"-52.8\" font-family=\"Helvetica,sans-Serif\" font-size=\"14.00\">gini = 0.086</text>\r\n",
       "<text text-anchor=\"middle\" x=\"670\" y=\"-37.8\" font-family=\"Helvetica,sans-Serif\" font-size=\"14.00\">samples = 1356</text>\r\n",
       "<text text-anchor=\"middle\" x=\"670\" y=\"-22.8\" font-family=\"Helvetica,sans-Serif\" font-size=\"14.00\">value = [1295, 61]</text>\r\n",
       "<text text-anchor=\"middle\" x=\"670\" y=\"-7.8\" font-family=\"Helvetica,sans-Serif\" font-size=\"14.00\">class = não</text>\r\n",
       "</g>\r\n",
       "<!-- 10&#45;&gt;11 -->\r\n",
       "<g id=\"edge11\" class=\"edge\"><title>10&#45;&gt;11</title>\r\n",
       "<path fill=\"none\" stroke=\"black\" d=\"M670,-103.726C670,-95.5175 670,-86.8595 670,-78.56\"/>\r\n",
       "<polygon fill=\"black\" stroke=\"black\" points=\"673.5,-78.2996 670,-68.2996 666.5,-78.2996 673.5,-78.2996\"/>\r\n",
       "</g>\r\n",
       "<!-- 12 -->\r\n",
       "<g id=\"node13\" class=\"node\"><title>12</title>\r\n",
       "<path fill=\"#91c9f1\" stroke=\"black\" d=\"M863,-68C863,-68 765,-68 765,-68 759,-68 753,-62 753,-56 753,-56 753,-12 753,-12 753,-6 759,-0 765,-0 765,-0 863,-0 863,-0 869,-0 875,-6 875,-12 875,-12 875,-56 875,-56 875,-62 869,-68 863,-68\"/>\r\n",
       "<text text-anchor=\"middle\" x=\"814\" y=\"-52.8\" font-family=\"Helvetica,sans-Serif\" font-size=\"14.00\">gini = 0.426</text>\r\n",
       "<text text-anchor=\"middle\" x=\"814\" y=\"-37.8\" font-family=\"Helvetica,sans-Serif\" font-size=\"14.00\">samples = 247</text>\r\n",
       "<text text-anchor=\"middle\" x=\"814\" y=\"-22.8\" font-family=\"Helvetica,sans-Serif\" font-size=\"14.00\">value = [76, 171]</text>\r\n",
       "<text text-anchor=\"middle\" x=\"814\" y=\"-7.8\" font-family=\"Helvetica,sans-Serif\" font-size=\"14.00\">class = sim</text>\r\n",
       "</g>\r\n",
       "<!-- 10&#45;&gt;12 -->\r\n",
       "<g id=\"edge12\" class=\"edge\"><title>10&#45;&gt;12</title>\r\n",
       "<path fill=\"none\" stroke=\"black\" d=\"M723.62,-103.726C736.215,-94.1494 749.613,-83.9611 762.129,-74.4438\"/>\r\n",
       "<polygon fill=\"black\" stroke=\"black\" points=\"764.367,-77.1386 770.209,-68.2996 760.13,-71.5666 764.367,-77.1386\"/>\r\n",
       "</g>\r\n",
       "</g>\r\n",
       "</svg>\r\n"
      ],
      "text/plain": [
       "<graphviz.files.Source at 0x2a307f26518>"
      ]
     },
     "execution_count": 9,
     "metadata": {},
     "output_type": "execute_result"
    }
   ],
   "source": [
    "features = x.columns\n",
    "dot_data = export_graphviz(modelo, out_file=None,\n",
    "                           filled = True, rounded = True,\n",
    "                           feature_names = features,\n",
    "                          class_names = [\"não\", \"sim\"])\n",
    "grafico = graphviz.Source(dot_data)\n",
    "grafico"
   ]
  },
  {
   "cell_type": "markdown",
   "metadata": {},
   "source": [
    " "
   ]
  },
  {
   "cell_type": "markdown",
   "metadata": {},
   "source": [
    " "
   ]
  },
  {
   "cell_type": "markdown",
   "metadata": {},
   "source": [
    "# _ _ _ _ _ _ _ _ _ _ _ _ _ _  VALIDAÇÃO DO MODELO _ _ _ _ _ _ _ _ _ _ _ _ _ _  "
   ]
  },
  {
   "cell_type": "markdown",
   "metadata": {},
   "source": [
    " "
   ]
  },
  {
   "cell_type": "markdown",
   "metadata": {},
   "source": [
    " "
   ]
  },
  {
   "cell_type": "markdown",
   "metadata": {},
   "source": [
    "### 1- Utilizando validação cruzada"
   ]
  },
  {
   "cell_type": "code",
   "execution_count": 10,
   "metadata": {},
   "outputs": [
    {
     "name": "stdout",
     "output_type": "stream",
     "text": [
      "Accuracy com cross validation, 3 [74.99, 76.57]\n"
     ]
    }
   ],
   "source": [
    "from sklearn.model_selection import cross_validate\n",
    "\n",
    "# Para manter a repitibilidade dos dados.\n",
    "np.random.seed(5)\n",
    "\n",
    "modelo = DecisionTreeClassifier(max_depth = 2)\n",
    "results = cross_validate(modelo, x,y,cv=3 , return_train_score = False) ## cv --> quantidade de pedaços a ser quebrado\n",
    "\n",
    "#Calculo do intervalo de scores\n",
    "\n",
    "media = results['test_score'].mean()\n",
    "desvio_padrao = results['test_score'].std()\n",
    "\n",
    "intervalo = (media - 2*desvio_padrao)*100, (media + 2*desvio_padrao)*100\n",
    "\n",
    "\n",
    "print('Accuracy com cross validation, 3 [%.2f, %.2f]' %intervalo)"
   ]
  },
  {
   "cell_type": "code",
   "execution_count": 11,
   "metadata": {},
   "outputs": [
    {
     "name": "stdout",
     "output_type": "stream",
     "text": [
      "Accuracy com cross validation, 10 [74.24, 77.32]\n"
     ]
    }
   ],
   "source": [
    "# Para manter a repitibilidade dos dados.\n",
    "np.random.seed(5)\n",
    "\n",
    "modelo = DecisionTreeClassifier(max_depth = 2)\n",
    "results = cross_validate(modelo, x,y,cv=10 , return_train_score = False) ## cv --> quantidade de pedaços a ser quebrado ( entre 5 e 10)\n",
    "\n",
    "#Calculo do intervalo de scores\n",
    "\n",
    "media = results['test_score'].mean()\n",
    "desvio_padrao = results['test_score'].std()\n",
    "\n",
    "intervalo = (media - 2*desvio_padrao)*100, (media + 2*desvio_padrao)*100\n",
    "\n",
    "\n",
    "print('Accuracy com cross validation, 10 [%.2f, %.2f]' %intervalo)"
   ]
  },
  {
   "cell_type": "markdown",
   "metadata": {},
   "source": [
    "cv --> quantidade de pedaços a ser quebrado (entre 5 e 10) esta ótimo"
   ]
  },
  {
   "cell_type": "markdown",
   "metadata": {},
   "source": [
    "### Obs: com esse método conseguimos apresentar uma taxa mais confiavel e assertiva em nossas validações. Tirando a influencia do cálculo da acuracia de variáveis randonicas"
   ]
  },
  {
   "cell_type": "markdown",
   "metadata": {},
   "source": [
    "#"
   ]
  },
  {
   "cell_type": "markdown",
   "metadata": {},
   "source": [
    "## KFold - Introduzindo aleatoriedade no CROSS VALIDATE"
   ]
  },
  {
   "cell_type": "code",
   "execution_count": 12,
   "metadata": {},
   "outputs": [],
   "source": [
    "#Calculo do intervalo de scores\n",
    "\n",
    "def imprime_resultados(results):\n",
    "    media = results['test_score'].mean()\n",
    "    desvio_padrao = results['test_score'].std()\n",
    "\n",
    "    intervalo = (media - 2*desvio_padrao)*100, (media + 2*desvio_padrao)*100\n",
    "    print('Accuracy médio: %.2f' %(media * 100))\n",
    "    print('Accuracy intervalo: [%.2f, %.2f]' %intervalo)"
   ]
  },
  {
   "cell_type": "code",
   "execution_count": 13,
   "metadata": {},
   "outputs": [
    {
     "name": "stdout",
     "output_type": "stream",
     "text": [
      "Accuracy médio: 75.78\n",
      "Accuracy intervalo: [74.37, 77.19]\n"
     ]
    }
   ],
   "source": [
    "# Sem shuffle ( embaralhar)\n",
    "\n",
    "from sklearn.model_selection import KFold\n",
    "\n",
    "cv = KFold(n_splits = 10)\n",
    "np.random.seed(5)\n",
    "\n",
    "modelo = DecisionTreeClassifier(max_depth = 2)\n",
    "results = cross_validate(modelo, x,y,cv=cv , return_train_score = False) \n",
    "\n",
    "#Calculo do intervalo de scores\n",
    "imprime_resultados(results)"
   ]
  },
  {
   "cell_type": "code",
   "execution_count": 14,
   "metadata": {},
   "outputs": [
    {
     "name": "stdout",
     "output_type": "stream",
     "text": [
      "Accuracy médio: 75.78\n",
      "Accuracy intervalo: [73.81, 77.75]\n"
     ]
    }
   ],
   "source": [
    "# Com shuffle ( embaralhar)\n",
    "\n",
    "\n",
    "cv = KFold(n_splits = 10, shuffle=True) #Embaralhando as variáveis\n",
    "np.random.seed(5)\n",
    "\n",
    "modelo = DecisionTreeClassifier(max_depth = 2)\n",
    "results = cross_validate(modelo, x,y,cv=cv , return_train_score = False) \n",
    "\n",
    "#Calculo do intervalo de scores\n",
    "imprime_resultados(results)"
   ]
  },
  {
   "cell_type": "markdown",
   "metadata": {},
   "source": [
    "### Obs: Caso os dados não tenham alguma estrutura interna.. como data .. etc.. usamos um embaralhador "
   ]
  },
  {
   "cell_type": "markdown",
   "metadata": {},
   "source": [
    " "
   ]
  },
  {
   "cell_type": "markdown",
   "metadata": {},
   "source": [
    " "
   ]
  },
  {
   "cell_type": "markdown",
   "metadata": {},
   "source": [
    "## ----> Vamos $Simular$ uma situação $Ruim$.. podendo ser uma proporção desbalanciada\n",
    "### Iremos pegar os valores de uma forma que não englobe totod os casos..  <---"
   ]
  },
  {
   "cell_type": "markdown",
   "metadata": {},
   "source": [
    " "
   ]
  },
  {
   "cell_type": "code",
   "execution_count": 15,
   "metadata": {},
   "outputs": [
    {
     "data": {
      "text/html": [
       "<div>\n",
       "<style scoped>\n",
       "    .dataframe tbody tr th:only-of-type {\n",
       "        vertical-align: middle;\n",
       "    }\n",
       "\n",
       "    .dataframe tbody tr th {\n",
       "        vertical-align: top;\n",
       "    }\n",
       "\n",
       "    .dataframe thead th {\n",
       "        text-align: right;\n",
       "    }\n",
       "</style>\n",
       "<table border=\"1\" class=\"dataframe\">\n",
       "  <thead>\n",
       "    <tr style=\"text-align: right;\">\n",
       "      <th></th>\n",
       "      <th>preco</th>\n",
       "      <th>vendido</th>\n",
       "      <th>idade_do_modelo</th>\n",
       "      <th>km_por_ano</th>\n",
       "    </tr>\n",
       "  </thead>\n",
       "  <tbody>\n",
       "    <tr>\n",
       "      <th>4999</th>\n",
       "      <td>74023.29</td>\n",
       "      <td>0</td>\n",
       "      <td>14</td>\n",
       "      <td>24812.80412</td>\n",
       "    </tr>\n",
       "    <tr>\n",
       "      <th>5322</th>\n",
       "      <td>84843.49</td>\n",
       "      <td>0</td>\n",
       "      <td>15</td>\n",
       "      <td>23095.63834</td>\n",
       "    </tr>\n",
       "    <tr>\n",
       "      <th>5319</th>\n",
       "      <td>83100.27</td>\n",
       "      <td>0</td>\n",
       "      <td>21</td>\n",
       "      <td>36240.72746</td>\n",
       "    </tr>\n",
       "    <tr>\n",
       "      <th>5316</th>\n",
       "      <td>87932.13</td>\n",
       "      <td>0</td>\n",
       "      <td>18</td>\n",
       "      <td>32249.56426</td>\n",
       "    </tr>\n",
       "    <tr>\n",
       "      <th>5315</th>\n",
       "      <td>77937.01</td>\n",
       "      <td>0</td>\n",
       "      <td>17</td>\n",
       "      <td>28414.50704</td>\n",
       "    </tr>\n",
       "  </tbody>\n",
       "</table>\n",
       "</div>"
      ],
      "text/plain": [
       "         preco  vendido  idade_do_modelo   km_por_ano\n",
       "4999  74023.29        0               14  24812.80412\n",
       "5322  84843.49        0               15  23095.63834\n",
       "5319  83100.27        0               21  36240.72746\n",
       "5316  87932.13        0               18  32249.56426\n",
       "5315  77937.01        0               17  28414.50704"
      ]
     },
     "execution_count": 15,
     "metadata": {},
     "output_type": "execute_result"
    }
   ],
   "source": [
    "dados_azar = dados.sort_values('vendido', ascending=True)\n",
    "x_azar = dados_azar[[\"preco\", \"idade_do_modelo\",\"km_por_ano\"]]\n",
    "y_azar = dados_azar[\"vendido\"]\n",
    "\n",
    "dados_azar.head()"
   ]
  },
  {
   "cell_type": "code",
   "execution_count": 16,
   "metadata": {},
   "outputs": [
    {
     "name": "stdout",
     "output_type": "stream",
     "text": [
      "Accuracy médio: 57.84\n",
      "Accuracy intervalo: [34.29, 81.39]\n"
     ]
    }
   ],
   "source": [
    "# Sem shuffle ( embaralhar)\n",
    "\n",
    "cv = KFold(n_splits = 10)\n",
    "np.random.seed(5)\n",
    "\n",
    "modelo = DecisionTreeClassifier(max_depth = 2)\n",
    "results = cross_validate(modelo, x_azar,y_azar,cv=cv , return_train_score = False) \n",
    "\n",
    "#Calculo do intervalo de scores\n",
    "imprime_resultados(results)"
   ]
  },
  {
   "cell_type": "code",
   "execution_count": 17,
   "metadata": {},
   "outputs": [
    {
     "name": "stdout",
     "output_type": "stream",
     "text": [
      "Accuracy médio: 75.79\n",
      "Accuracy intervalo: [73.79, 77.79]\n"
     ]
    }
   ],
   "source": [
    "# Com shuffle ( embaralhar)\n",
    "\n",
    "\n",
    "cv = KFold(n_splits = 10, shuffle=True) #Embaralhando as variáveis\n",
    "np.random.seed(5)\n",
    "\n",
    "modelo = DecisionTreeClassifier(max_depth = 2)\n",
    "results = cross_validate(modelo, x_azar,y_azar,cv=cv , return_train_score = False) \n",
    "\n",
    "#Calculo do intervalo de scores\n",
    "imprime_resultados(results)"
   ]
  },
  {
   "cell_type": "markdown",
   "metadata": {},
   "source": [
    "### OBS: o Shuffer é bom para resolver o tipo de problema criado pela coleta de dados coletado de forma  desbalanciada"
   ]
  },
  {
   "cell_type": "markdown",
   "metadata": {},
   "source": [
    "# StratifiedKFold - procura balancear as classes de variáveis "
   ]
  },
  {
   "cell_type": "code",
   "execution_count": 18,
   "metadata": {},
   "outputs": [],
   "source": [
    "from sklearn.model_selection import StratifiedKFold"
   ]
  },
  {
   "cell_type": "code",
   "execution_count": 19,
   "metadata": {},
   "outputs": [
    {
     "name": "stdout",
     "output_type": "stream",
     "text": [
      "Accuracy médio: 75.78\n",
      "Accuracy intervalo: [73.44, 78.12]\n"
     ]
    }
   ],
   "source": [
    "# Com shuffle com StratifiedKFold ( embaralhar)\n",
    "\n",
    "\n",
    "cv = StratifiedKFold(n_splits = 10, shuffle=True) #Embaralhando as variáveis\n",
    "np.random.seed(5)\n",
    "\n",
    "modelo = DecisionTreeClassifier(max_depth = 2)\n",
    "results = cross_validate(modelo, x_azar,y_azar,cv=cv , return_train_score = False) \n",
    "\n",
    "#Calculo do intervalo de scores\n",
    "imprime_resultados(results)"
   ]
  },
  {
   "cell_type": "markdown",
   "metadata": {},
   "source": [
    " "
   ]
  },
  {
   "cell_type": "markdown",
   "metadata": {},
   "source": [
    " "
   ]
  },
  {
   "cell_type": "markdown",
   "metadata": {},
   "source": [
    "## ----------------- Vamos criar uma coluna com modelo dos carros -----------------"
   ]
  },
  {
   "cell_type": "markdown",
   "metadata": {},
   "source": [
    " "
   ]
  },
  {
   "cell_type": "markdown",
   "metadata": {},
   "source": [
    " "
   ]
  },
  {
   "cell_type": "code",
   "execution_count": 20,
   "metadata": {},
   "outputs": [
    {
     "data": {
      "text/plain": [
       "array([ 1, -2, -1, ..., -2, -2,  1])"
      ]
     },
     "execution_count": 20,
     "metadata": {},
     "output_type": "execute_result"
    }
   ],
   "source": [
    "np.random.seed(SEED)\n",
    "np.random.randint(-2,3, size=10000) # gera um numero inteiro entre o intervalo, e a quantidade de numeros"
   ]
  },
  {
   "cell_type": "code",
   "execution_count": 21,
   "metadata": {},
   "outputs": [
    {
     "data": {
      "text/plain": [
       "10000"
      ]
     },
     "execution_count": 21,
     "metadata": {},
     "output_type": "execute_result"
    }
   ],
   "source": [
    "len(dados) # tamanho da base de dados"
   ]
  },
  {
   "cell_type": "code",
   "execution_count": 22,
   "metadata": {},
   "outputs": [],
   "source": [
    "dados['modelo_aleatorio'] = dados.idade_do_modelo + np.random.randint(-2,3, size=10000)"
   ]
  },
  {
   "cell_type": "code",
   "execution_count": 23,
   "metadata": {},
   "outputs": [
    {
     "data": {
      "text/html": [
       "<div>\n",
       "<style scoped>\n",
       "    .dataframe tbody tr th:only-of-type {\n",
       "        vertical-align: middle;\n",
       "    }\n",
       "\n",
       "    .dataframe tbody tr th {\n",
       "        vertical-align: top;\n",
       "    }\n",
       "\n",
       "    .dataframe thead th {\n",
       "        text-align: right;\n",
       "    }\n",
       "</style>\n",
       "<table border=\"1\" class=\"dataframe\">\n",
       "  <thead>\n",
       "    <tr style=\"text-align: right;\">\n",
       "      <th></th>\n",
       "      <th>preco</th>\n",
       "      <th>vendido</th>\n",
       "      <th>idade_do_modelo</th>\n",
       "      <th>km_por_ano</th>\n",
       "      <th>modelo_aleatorio</th>\n",
       "    </tr>\n",
       "  </thead>\n",
       "  <tbody>\n",
       "    <tr>\n",
       "      <th>0</th>\n",
       "      <td>30941.02</td>\n",
       "      <td>1</td>\n",
       "      <td>20</td>\n",
       "      <td>35085.22134</td>\n",
       "      <td>19</td>\n",
       "    </tr>\n",
       "    <tr>\n",
       "      <th>1</th>\n",
       "      <td>40557.96</td>\n",
       "      <td>1</td>\n",
       "      <td>22</td>\n",
       "      <td>12622.05362</td>\n",
       "      <td>23</td>\n",
       "    </tr>\n",
       "    <tr>\n",
       "      <th>2</th>\n",
       "      <td>89627.50</td>\n",
       "      <td>0</td>\n",
       "      <td>14</td>\n",
       "      <td>11440.79806</td>\n",
       "      <td>14</td>\n",
       "    </tr>\n",
       "    <tr>\n",
       "      <th>3</th>\n",
       "      <td>95276.14</td>\n",
       "      <td>0</td>\n",
       "      <td>5</td>\n",
       "      <td>43167.32682</td>\n",
       "      <td>3</td>\n",
       "    </tr>\n",
       "    <tr>\n",
       "      <th>4</th>\n",
       "      <td>117384.68</td>\n",
       "      <td>1</td>\n",
       "      <td>6</td>\n",
       "      <td>12770.11290</td>\n",
       "      <td>7</td>\n",
       "    </tr>\n",
       "  </tbody>\n",
       "</table>\n",
       "</div>"
      ],
      "text/plain": [
       "       preco  vendido  idade_do_modelo   km_por_ano  modelo_aleatorio\n",
       "0   30941.02        1               20  35085.22134                19\n",
       "1   40557.96        1               22  12622.05362                23\n",
       "2   89627.50        0               14  11440.79806                14\n",
       "3   95276.14        0                5  43167.32682                 3\n",
       "4  117384.68        1                6  12770.11290                 7"
      ]
     },
     "execution_count": 23,
     "metadata": {},
     "output_type": "execute_result"
    }
   ],
   "source": [
    "dados.head()"
   ]
  },
  {
   "cell_type": "code",
   "execution_count": 24,
   "metadata": {},
   "outputs": [
    {
     "data": {
      "text/plain": [
       "array([19, 23, 14,  3,  7, 13, 20, 17, 21,  9, 15,  6, 22, 18, 11, 16,  8,\n",
       "       10, 12, 24,  4,  2,  5,  1], dtype=int64)"
      ]
     },
     "execution_count": 24,
     "metadata": {},
     "output_type": "execute_result"
    }
   ],
   "source": [
    "dados['modelo_aleatorio'].unique()"
   ]
  },
  {
   "cell_type": "code",
   "execution_count": 25,
   "metadata": {},
   "outputs": [
    {
     "data": {
      "text/plain": [
       "20    893\n",
       "18    776\n",
       "19    765\n",
       "17    740\n",
       "21    679\n",
       "16    635\n",
       "14    635\n",
       "15    630\n",
       "22    576\n",
       "12    519\n",
       "13    518\n",
       "11    427\n",
       "23    404\n",
       "10    367\n",
       "9     344\n",
       "8     281\n",
       "24    205\n",
       "7     193\n",
       "6     151\n",
       "5     113\n",
       "4      78\n",
       "3      53\n",
       "2      15\n",
       "1       3\n",
       "Name: modelo_aleatorio, dtype: int64"
      ]
     },
     "execution_count": 25,
     "metadata": {},
     "output_type": "execute_result"
    }
   ],
   "source": [
    "dados.modelo_aleatorio.value_counts()"
   ]
  },
  {
   "cell_type": "code",
   "execution_count": 26,
   "metadata": {},
   "outputs": [],
   "source": [
    "dados.rename(columns={'modelo_aleatorio':'modelo'}, inplace=True)"
   ]
  },
  {
   "cell_type": "markdown",
   "metadata": {},
   "source": [
    " "
   ]
  },
  {
   "cell_type": "markdown",
   "metadata": {},
   "source": [
    "### Estimando o modelo para vida Real.. para dados inexistentes..\n",
    "### Vamos separar os dados de treino e teste em grupos .. ( esse tipo de validação é boa para dados com varios grupos)"
   ]
  },
  {
   "cell_type": "markdown",
   "metadata": {},
   "source": [
    " "
   ]
  },
  {
   "cell_type": "code",
   "execution_count": 27,
   "metadata": {},
   "outputs": [],
   "source": [
    "from sklearn.model_selection import GroupKFold  ## se adequa melhor para modelo de previsão de dados reais"
   ]
  },
  {
   "cell_type": "code",
   "execution_count": 28,
   "metadata": {},
   "outputs": [
    {
     "name": "stdout",
     "output_type": "stream",
     "text": [
      "Accuracy médio: 75.77\n",
      "Accuracy intervalo: [72.94, 78.59]\n"
     ]
    }
   ],
   "source": [
    "# GroupKFold sem shuffle ( embaralhar)\n",
    "\n",
    "\n",
    "cv = GroupKFold(n_splits = 10) # separa por grupos\n",
    "np.random.seed(5)\n",
    "\n",
    "\n",
    "modelo = DecisionTreeClassifier(max_depth=2)\n",
    "results = cross_validate(modelo, x_azar,y_azar, cv = cv, groups = dados.modelo, return_train_score=False) # é necessario passar a coluna a agrupar\n",
    "\n",
    "#Calculo do intervalo de scores\n",
    "imprime_resultados(results)"
   ]
  },
  {
   "cell_type": "markdown",
   "metadata": {},
   "source": [
    " "
   ]
  },
  {
   "cell_type": "markdown",
   "metadata": {},
   "source": [
    "### OBS: esses algoritimos são senciveis a varios tipode de escalas na mesma base de dados.."
   ]
  },
  {
   "cell_type": "markdown",
   "metadata": {},
   "source": [
    "## Cross validation com StandardScaler"
   ]
  },
  {
   "cell_type": "code",
   "execution_count": 29,
   "metadata": {},
   "outputs": [],
   "source": [
    "from sklearn.preprocessing import StandardScaler\n",
    "from sklearn.svm import SVC"
   ]
  },
  {
   "cell_type": "code",
   "execution_count": 30,
   "metadata": {},
   "outputs": [
    {
     "name": "stdout",
     "output_type": "stream",
     "text": [
      "A Acurácia foi de 77.48%\n"
     ]
    }
   ],
   "source": [
    "scaler = StandardScaler()\n",
    "scaler.fit(treino_x)\n",
    "treino_x_escalado = scaler.transform(treino_x)\n",
    "teste_x_escalado = scaler.transform(teste_x)\n",
    "\n",
    "modelo = SVC()\n",
    "modelo.fit(treino_x_escalado, treino_y)\n",
    "previsoes = modelo.predict(teste_x_escalado)\n",
    "\n",
    "acuracia = accuracy_score(teste_y, previsoes) * 100\n",
    "print(\"A Acurácia foi de %.2f%%\" % acuracia)\n"
   ]
  },
  {
   "cell_type": "code",
   "execution_count": 31,
   "metadata": {},
   "outputs": [
    {
     "name": "stdout",
     "output_type": "stream",
     "text": [
      "Accuracy médio: 77.26\n",
      "Accuracy intervalo: [74.97, 79.56]\n"
     ]
    }
   ],
   "source": [
    "# GroupKFold sem shuffle ( embaralhar)\n",
    "\n",
    "\n",
    "cv = GroupKFold(n_splits = 10) # separa por grupos\n",
    "np.random.seed(5)\n",
    "\n",
    "\n",
    "modelo = SVC()\n",
    "results = cross_validate(modelo, x_azar,y_azar, cv = cv, groups = dados.modelo, return_train_score=False) # é necessario passar a coluna a agrupar\n",
    "\n",
    "#Calculo do intervalo de scores\n",
    "imprime_resultados(results)"
   ]
  },
  {
   "cell_type": "code",
   "execution_count": 32,
   "metadata": {},
   "outputs": [],
   "source": [
    "scaler = StandardScaler()\n",
    "scaler.fit(x_azar)\n",
    "x_azar_escalado = scaler.transform(x_azar)\n"
   ]
  },
  {
   "cell_type": "code",
   "execution_count": 33,
   "metadata": {},
   "outputs": [
    {
     "name": "stdout",
     "output_type": "stream",
     "text": [
      "Accuracy médio: 76.79\n",
      "Accuracy intervalo: [73.89, 79.69]\n"
     ]
    }
   ],
   "source": [
    "# GroupKFold sem shuffle ( embaralhar)\n",
    "\n",
    "\n",
    "cv = GroupKFold(n_splits = 10) # separa por grupos\n",
    "np.random.seed(5)\n",
    "\n",
    "\n",
    "modelo = SVC()\n",
    "results = cross_validate(modelo, x_azar_escalado,y_azar, cv = cv, groups = dados.modelo, return_train_score=False) # é necessario passar a coluna a agrupar\n",
    "\n",
    "#Calculo do intervalo de scores\n",
    "imprime_resultados(results)"
   ]
  },
  {
   "cell_type": "markdown",
   "metadata": {},
   "source": [
    "## **Vamos criar um processo de tratamento -- ele vai rodar a transformação e estimador para cada grupo"
   ]
  },
  {
   "cell_type": "code",
   "execution_count": 34,
   "metadata": {},
   "outputs": [],
   "source": [
    "from sklearn.pipeline import Pipeline"
   ]
  },
  {
   "cell_type": "code",
   "execution_count": 35,
   "metadata": {},
   "outputs": [
    {
     "name": "stdout",
     "output_type": "stream",
     "text": [
      "Accuracy médio: 76.77\n",
      "Accuracy intervalo: [73.82, 79.72]\n"
     ]
    }
   ],
   "source": [
    "np.random.seed(5)\n",
    "\n",
    "\n",
    "scaler = StandardScaler()\n",
    "modelo = SVC()\n",
    "\n",
    "pipeline = Pipeline([('transformacao',scaler),('estimador',modelo)]) # ele vai rodar a transformação e estimador para cada grupo\n",
    "\n",
    "cv = GroupKFold(n_splits = 10) # separa por grupos\n",
    "modelo = SVC()\n",
    "results = cross_validate(pipeline, x_azar,y_azar, cv = cv, groups = dados.modelo, return_train_score=False) # é necessario passar a coluna a agrupar\n",
    "\n",
    "#Calculo do intervalo de scores\n",
    "imprime_resultados(results)"
   ]
  },
  {
   "cell_type": "markdown",
   "metadata": {},
   "source": [
    "## Para rodar algoritimos com corss validação que possuam pré-processamento, é necessario rodar dentro de um pipeline"
   ]
  },
  {
   "cell_type": "markdown",
   "metadata": {},
   "source": [
    "### dessa forma ele vai transformar a escala e ajudar as variaveis para cada grupo"
   ]
  },
  {
   "cell_type": "markdown",
   "metadata": {},
   "source": [
    " "
   ]
  },
  {
   "cell_type": "markdown",
   "metadata": {},
   "source": [
    " "
   ]
  },
  {
   "cell_type": "markdown",
   "metadata": {},
   "source": []
  },
  {
   "cell_type": "code",
   "execution_count": null,
   "metadata": {},
   "outputs": [],
   "source": []
  }
 ],
 "metadata": {
  "kernelspec": {
   "display_name": "Python 3",
   "language": "python",
   "name": "python3"
  },
  "language_info": {
   "codemirror_mode": {
    "name": "ipython",
    "version": 3
   },
   "file_extension": ".py",
   "mimetype": "text/x-python",
   "name": "python",
   "nbconvert_exporter": "python",
   "pygments_lexer": "ipython3",
   "version": "3.7.3"
  }
 },
 "nbformat": 4,
 "nbformat_minor": 2
}
