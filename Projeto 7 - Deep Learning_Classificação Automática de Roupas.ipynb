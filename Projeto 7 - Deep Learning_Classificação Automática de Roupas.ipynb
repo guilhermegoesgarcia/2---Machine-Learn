{
 "cells": [
  {
   "cell_type": "code",
   "execution_count": 1,
   "metadata": {},
   "outputs": [],
   "source": [
    "#!pip install tensorflow==1.15\n",
    "#!pip install tensorflow-gpu==1.15"
   ]
  },
  {
   "cell_type": "code",
   "execution_count": 1,
   "metadata": {},
   "outputs": [],
   "source": [
    "import tensorflow\n",
    "from tensorflow import keras\n",
    "from scipy import ndimage # pré processamento de imagens:  http://scipy-lectures.org/advanced/image_processing/\n",
    "import pandas as pd\n",
    "import numpy as np\n",
    "import matplotlib.pyplot as plt\n",
    "from tensorflow.keras.models import load_model"
   ]
  },
  {
   "cell_type": "code",
   "execution_count": 2,
   "metadata": {},
   "outputs": [
    {
     "data": {
      "text/plain": [
       "60000"
      ]
     },
     "execution_count": 2,
     "metadata": {},
     "output_type": "execute_result"
    }
   ],
   "source": [
    "dataset = keras.datasets.fashion_mnist # importando o dataset com as imagens\n",
    "((imagens_treino,identificacoes_treino),(imagens_teste,identificacoes_teste)) = dataset.load_data() # dados de treino e teste\n",
    "len(imagens_treino)"
   ]
  },
  {
   "cell_type": "code",
   "execution_count": 4,
   "metadata": {},
   "outputs": [
    {
     "data": {
      "text/plain": [
       "(60000, 28, 28)"
      ]
     },
     "execution_count": 4,
     "metadata": {},
     "output_type": "execute_result"
    }
   ],
   "source": [
    "imagens_treino.shape"
   ]
  },
  {
   "cell_type": "code",
   "execution_count": 5,
   "metadata": {},
   "outputs": [
    {
     "data": {
      "text/plain": [
       "(10000, 28, 28)"
      ]
     },
     "execution_count": 5,
     "metadata": {},
     "output_type": "execute_result"
    }
   ],
   "source": [
    "imagens_teste.shape"
   ]
  },
  {
   "cell_type": "code",
   "execution_count": 6,
   "metadata": {},
   "outputs": [
    {
     "data": {
      "text/plain": [
       "60000"
      ]
     },
     "execution_count": 6,
     "metadata": {},
     "output_type": "execute_result"
    }
   ],
   "source": [
    "len(identificacoes_treino)"
   ]
  },
  {
   "cell_type": "code",
   "execution_count": 7,
   "metadata": {},
   "outputs": [
    {
     "data": {
      "text/plain": [
       "10000"
      ]
     },
     "execution_count": 7,
     "metadata": {},
     "output_type": "execute_result"
    }
   ],
   "source": [
    "len(identificacoes_teste)"
   ]
  },
  {
   "cell_type": "code",
   "execution_count": 3,
   "metadata": {},
   "outputs": [],
   "source": [
    "## Para visualizar as imagens vamos importar o matplotlib\n",
    "\n",
    "import matplotlib.pyplot as plt"
   ]
  },
  {
   "cell_type": "code",
   "execution_count": 9,
   "metadata": {},
   "outputs": [
    {
     "data": {
      "text/plain": [
       "<matplotlib.image.AxesImage at 0x16b7f890e10>"
      ]
     },
     "execution_count": 9,
     "metadata": {},
     "output_type": "execute_result"
    },
    {
     "data": {
      "image/png": "[encoded data removed]",
      "text/plain": [
       "<Figure size 432x288 with 1 Axes>"
      ]
     },
     "metadata": {
      "needs_background": "light"
     },
     "output_type": "display_data"
    }
   ],
   "source": [
    "plt.imshow(imagens_treino[0])"
   ]
  },
  {
   "cell_type": "code",
   "execution_count": 10,
   "metadata": {},
   "outputs": [
    {
     "data": {
      "text/plain": [
       "<matplotlib.image.AxesImage at 0x16b7f925ef0>"
      ]
     },
     "execution_count": 10,
     "metadata": {},
     "output_type": "execute_result"
    },
    {
     "data": {
      "image/png": "[encoded data removed]",
      "text/plain": [
       "<Figure size 432x288 with 1 Axes>"
      ]
     },
     "metadata": {
      "needs_background": "light"
     },
     "output_type": "display_data"
    }
   ],
   "source": [
    "plt.imshow(imagens_treino[1])"
   ]
  },
  {
   "cell_type": "code",
   "execution_count": 11,
   "metadata": {},
   "outputs": [
    {
     "data": {
      "text/plain": [
       "<matplotlib.image.AxesImage at 0x16b7f9922e8>"
      ]
     },
     "execution_count": 11,
     "metadata": {},
     "output_type": "execute_result"
    },
    {
     "data": {
      "image/png": "[encoded data removed]",
      "text/plain": [
       "<Figure size 432x288 with 1 Axes>"
      ]
     },
     "metadata": {
      "needs_background": "light"
     },
     "output_type": "display_data"
    }
   ],
   "source": [
    "plt.imshow(imagens_treino[2])"
   ]
  },
  {
   "cell_type": "markdown",
   "metadata": {},
   "source": [
    "## Identificando as imagens"
   ]
  },
  {
   "cell_type": "code",
   "execution_count": 12,
   "metadata": {},
   "outputs": [
    {
     "data": {
      "text/plain": [
       "<matplotlib.image.AxesImage at 0x16b7f8e3438>"
      ]
     },
     "execution_count": 12,
     "metadata": {},
     "output_type": "execute_result"
    },
    {
     "data": {
      "image/png": "[encoded data removed]",
      "text/plain": [
       "<Figure size 432x288 with 1 Axes>"
      ]
     },
     "metadata": {
      "needs_background": "light"
     },
     "output_type": "display_data"
    }
   ],
   "source": [
    "\n",
    "plt.title(identificacoes_treino[0])\n",
    "plt.imshow(imagens_treino[0])"
   ]
  },
  {
   "cell_type": "code",
   "execution_count": 14,
   "metadata": {},
   "outputs": [
    {
     "data": {
      "text/plain": [
       "0"
      ]
     },
     "execution_count": 14,
     "metadata": {},
     "output_type": "execute_result"
    }
   ],
   "source": [
    "identificacoes_treino.min()"
   ]
  },
  {
   "cell_type": "code",
   "execution_count": 15,
   "metadata": {},
   "outputs": [
    {
     "data": {
      "text/plain": [
       "9"
      ]
     },
     "execution_count": 15,
     "metadata": {},
     "output_type": "execute_result"
    }
   ],
   "source": [
    "identificacoes_treino.max()"
   ]
  },
  {
   "cell_type": "code",
   "execution_count": 20,
   "metadata": {},
   "outputs": [],
   "source": [
    "total_de_classificacoes = 10\n",
    "nome_de_classificacoes =['Camiseta',\n",
    "'Calça',\n",
    "'Pullover',\n",
    "'Vestido',\n",
    "'Casaco',\n",
    "'Sandália',\n",
    "'Camiseta',\n",
    "'Tênis',\n",
    "'Bolsa',\n",
    "'Bota']"
   ]
  },
  {
   "cell_type": "code",
   "execution_count": 21,
   "metadata": {},
   "outputs": [
    {
     "data": {
      "image/png": "[encoded data removed]",
      "text/plain": [
       "<Figure size 432x288 with 10 Axes>"
      ]
     },
     "metadata": {
      "needs_background": "light"
     },
     "output_type": "display_data"
    }
   ],
   "source": [
    "\n",
    "for imagem in range(10):\n",
    "    plt.subplot(2,5, imagem+1)\n",
    "    plt.imshow(imagens_treino[imagem])\n",
    "    plt.title(nome_de_classificacoes[identificacoes_treino[imagem]])"
   ]
  },
  {
   "cell_type": "markdown",
   "metadata": {},
   "source": [
    "## Verificar na documentação o significado de cada titulo :      https://github.com/zalandoresearch/fashion-mnist"
   ]
  },
  {
   "cell_type": "markdown",
   "metadata": {},
   "source": [
    "modelo = Sequencia(1,2,3)\n",
    "    #1-entrada ( camada '0' --> achatamento das dimensoes para apenas uma)\n",
    "    #2-processamento ( camada'1' multiplo de 2 --> quantidade de linhas conectadas as nossas camadas, e como vão ser feitos esses processamentos)\n",
    "    #3-saida ( determina a quantidade de respostas e a probabilidade maxima da resmosta correta)"
   ]
  },
  {
   "cell_type": "code",
   "execution_count": 29,
   "metadata": {},
   "outputs": [
    {
     "name": "stdout",
     "output_type": "stream",
     "text": [
      "Train on 60000 samples\n",
      "WARNING:tensorflow:OMP_NUM_THREADS is no longer used by the default Keras config. To configure the number of threads, use tf.config.threading APIs.\n",
      "60000/60000 [==============================] - 6s 103us/sample - loss: 3.5003\n"
     ]
    },
    {
     "data": {
      "text/plain": [
       "<tensorflow.python.keras.callbacks.History at 0x16b02291588>"
      ]
     },
     "execution_count": 29,
     "metadata": {},
     "output_type": "execute_result"
    }
   ],
   "source": [
    "modelo = keras.Sequential([ \n",
    "    keras.layers.Flatten(input_shape = (28,28)),\n",
    "    keras.layers.Dense(256,activation=tensorflow.nn.relu),\n",
    "    keras.layers.Dense(10,activation=tensorflow.nn.softmax)\n",
    "                                               ])  # criando o modelo\n",
    "\n",
    "modelo.compile(optimizer='adam', loss='sparse_categorical_crossentropy') #compilando o modelo\n",
    "\n",
    "modelo.fit(imagens_treino,identificacoes_treino) #treinando o modelo"
   ]
  },
  {
   "cell_type": "markdown",
   "metadata": {},
   "source": [
    "## Modelo foi treinado.. em um cliclo ou época"
   ]
  },
  {
   "cell_type": "markdown",
   "metadata": {},
   "source": [
    "## Vamos fazer tratamentos para diminuir a perda em cada camada"
   ]
  },
  {
   "cell_type": "code",
   "execution_count": 33,
   "metadata": {},
   "outputs": [
    {
     "data": {
      "text/plain": [
       "<matplotlib.colorbar.Colorbar at 0x16b0271ee48>"
      ]
     },
     "execution_count": 33,
     "metadata": {},
     "output_type": "execute_result"
    },
    {
     "data": {
      "image/png": "[encoded data removed]",
      "text/plain": [
       "<Figure size 432x288 with 2 Axes>"
      ]
     },
     "metadata": {
      "needs_background": "light"
     },
     "output_type": "display_data"
    }
   ],
   "source": [
    "total_de_classificacoes = 10\n",
    "nome_de_classificacoes =['Camiseta',\n",
    "'Calça','Pullover','Vestido','Casaco','Sandália',\n",
    "'Camiseta','Tênis','Bolsa','Bota']\n",
    "\n",
    "'''plt.imshow(imagens_treino[0])\n",
    "plt.title(identificacoes_treino[0])\n",
    "\n",
    "for imagem in range(10):\n",
    "    plt.subplot(2,5, imagem+1)\n",
    "    plt.imshow(imagens_treino[imagem])\n",
    "    plt.title(nome_de_classificacoes[identificacoes_treino[imagem]])\n",
    "'''    \n",
    "plt.imshow(imagens_treino[0])\n",
    "plt.colorbar()"
   ]
  },
  {
   "cell_type": "markdown",
   "metadata": {},
   "source": [
    "## camada '0' - Vamos dividir a quantidade de pixel pela variação de degrade das cores para aprimorar nossa precisão"
   ]
  },
  {
   "cell_type": "code",
   "execution_count": 34,
   "metadata": {},
   "outputs": [
    {
     "name": "stdout",
     "output_type": "stream",
     "text": [
      "Train on 60000 samples\n",
      "60000/60000 [==============================] - 4s 72us/sample - loss: 0.4868\n"
     ]
    },
    {
     "data": {
      "text/plain": [
       "<tensorflow.python.keras.callbacks.History at 0x16b020489b0>"
      ]
     },
     "execution_count": 34,
     "metadata": {},
     "output_type": "execute_result"
    }
   ],
   "source": [
    "imagens_treino = imagens_treino/float(255) # Normalização da imagem\n",
    "\n",
    "modelo = keras.Sequential([ \n",
    "    keras.layers.Flatten(input_shape = (28,28)),\n",
    "    keras.layers.Dense(256,activation=tensorflow.nn.relu),\n",
    "    keras.layers.Dense(10,activation=tensorflow.nn.softmax)\n",
    "                                               ])  \n",
    "\n",
    "modelo.compile(optimizer='adam', loss='sparse_categorical_crossentropy') \n",
    "\n",
    "modelo.fit(imagens_treino,identificacoes_treino) "
   ]
  },
  {
   "cell_type": "markdown",
   "metadata": {},
   "source": [
    "### conseguimos diminuir a nossa perda"
   ]
  },
  {
   "cell_type": "markdown",
   "metadata": {},
   "source": [
    "## camada '1' - "
   ]
  },
  {
   "cell_type": "code",
   "execution_count": 39,
   "metadata": {},
   "outputs": [
    {
     "name": "stdout",
     "output_type": "stream",
     "text": [
      "Train on 60000 samples\n",
      "60000/60000 [==============================] - 6s 95us/sample - loss: 0.7971\n"
     ]
    },
    {
     "data": {
      "text/plain": [
       "<tensorflow.python.keras.callbacks.History at 0x16b0278e438>"
      ]
     },
     "execution_count": 39,
     "metadata": {},
     "output_type": "execute_result"
    }
   ],
   "source": [
    "imagens_treino = imagens_treino/float(255) # Normalização da imagem\n",
    "\n",
    "modelo = keras.Sequential([ \n",
    "    keras.layers.Flatten(input_shape = (28,28)),\n",
    "    keras.layers.Dense(256,activation=tensorflow.nn.relu),\n",
    "    keras.layers.Dense(128,activation=tensorflow.nn.relu), # add mais uma camada, ela procura agrupar as caracteristicas\n",
    "    keras.layers.Dense(10,activation=tensorflow.nn.softmax)\n",
    "                                               ])  \n",
    "\n",
    "modelo.compile(optimizer='adam', loss='sparse_categorical_crossentropy') \n",
    "\n",
    "modelo.fit(imagens_treino,identificacoes_treino) "
   ]
  },
  {
   "cell_type": "markdown",
   "metadata": {},
   "source": [
    "### nossa perta aumentou ao add mais uma camada"
   ]
  },
  {
   "cell_type": "code",
   "execution_count": 42,
   "metadata": {},
   "outputs": [
    {
     "name": "stdout",
     "output_type": "stream",
     "text": [
      "Train on 60000 samples\n",
      "60000/60000 [==============================] - 5s 91us/sample - loss: 2.3028\n"
     ]
    },
    {
     "data": {
      "text/plain": [
       "<tensorflow.python.keras.callbacks.History at 0x16b0203a400>"
      ]
     },
     "execution_count": 42,
     "metadata": {},
     "output_type": "execute_result"
    }
   ],
   "source": [
    "imagens_treino = imagens_treino/float(255) # Normalização da imagem\n",
    "\n",
    "modelo = keras.Sequential([ \n",
    "    keras.layers.Flatten(input_shape = (28,28)),\n",
    "    keras.layers.Dense(256,activation=tensorflow.nn.relu),\n",
    "    keras.layers.Dense(128,activation=tensorflow.nn.relu),# add camada\n",
    "    keras.layers.Dense(64,activation=tensorflow.nn.relu),# add mais uma camada\n",
    "    keras.layers.Dense(10,activation=tensorflow.nn.softmax)\n",
    "                                               ])  \n",
    "\n",
    "modelo.compile(optimizer='adam', loss='sparse_categorical_crossentropy') \n",
    "\n",
    "modelo.fit(imagens_treino,identificacoes_treino) "
   ]
  },
  {
   "cell_type": "markdown",
   "metadata": {},
   "source": [
    "### nossas perdas aumentaram ainda mais ao add mais uma camada, podemos concluir que para o nosso modelo.. com a penas uma camada existe menos perda"
   ]
  },
  {
   "cell_type": "code",
   "execution_count": 3,
   "metadata": {},
   "outputs": [
    {
     "name": "stdout",
     "output_type": "stream",
     "text": [
      "WARNING:tensorflow:From C:\\Users\\Guilherme\\Anaconda3\\lib\\site-packages\\tensorflow_core\\python\\ops\\resource_variable_ops.py:1630: calling BaseResourceVariable.__init__ (from tensorflow.python.ops.resource_variable_ops) with constraint is deprecated and will be removed in a future version.\n",
      "Instructions for updating:\n",
      "If using Keras pass *_constraint arguments to layers.\n",
      "Train on 48000 samples, validate on 12000 samples\n",
      "WARNING:tensorflow:OMP_NUM_THREADS is no longer used by the default Keras config. To configure the number of threads, use tf.config.threading APIs.\n",
      "Epoch 1/5\n",
      "48000/48000 [==============================] - 4s 77us/sample - loss: 0.5001 - acc: 0.8247 - val_loss: 0.4104 - val_acc: 0.8572\n",
      "Epoch 2/5\n",
      "48000/48000 [==============================] - 4s 75us/sample - loss: 0.3734 - acc: 0.8650 - val_loss: 0.3658 - val_acc: 0.8663\n",
      "Epoch 3/5\n",
      "48000/48000 [==============================] - 4s 85us/sample - loss: 0.3339 - acc: 0.8785 - val_loss: 0.3478 - val_acc: 0.8739\n",
      "Epoch 4/5\n",
      "48000/48000 [==============================] - 4s 75us/sample - loss: 0.3091 - acc: 0.8855 - val_loss: 0.3556 - val_acc: 0.8758\n",
      "Epoch 5/5\n",
      "48000/48000 [==============================] - 4s 75us/sample - loss: 0.2899 - acc: 0.8924 - val_loss: 0.3377 - val_acc: 0.8799\n"
     ]
    }
   ],
   "source": [
    "imagens_treino = imagens_treino/float(255) # Normalização da imagem\n",
    "\n",
    "modelo = keras.Sequential([ \n",
    "    keras.layers.Flatten(input_shape = (28,28)),\n",
    "    keras.layers.Dense(256,activation=tensorflow.nn.relu),\n",
    "    keras.layers.Dense(10,activation=tensorflow.nn.softmax)\n",
    "                                               ])  \n",
    "\n",
    "modelo.compile(optimizer='adam', loss='sparse_categorical_crossentropy',\n",
    "               metrics=['accuracy']) # variavel para saber o quanto estamos acertando \n",
    "\n",
    "historico = modelo.fit(imagens_treino,identificacoes_treino,epochs=5, validation_split=0.2) # vamos aumentar a quantidade de vezes que o algoritimo passa pelas imagens "
   ]
  },
  {
   "cell_type": "code",
   "execution_count": 4,
   "metadata": {},
   "outputs": [
    {
     "data": {
      "text/plain": [
       "<matplotlib.legend.Legend at 0x23ba13a86d8>"
      ]
     },
     "execution_count": 4,
     "metadata": {},
     "output_type": "execute_result"
    },
    {
     "data": {
      "image/png": "[encoded data removed]",
      "text/plain": [
       "<Figure size 432x288 with 1 Axes>"
      ]
     },
     "metadata": {
      "needs_background": "light"
     },
     "output_type": "display_data"
    }
   ],
   "source": [
    "plt.plot(historico.history['acc'])\n",
    "plt.plot(historico.history['val_acc'])\n",
    "plt.title('Acurácia por épocas')\n",
    "plt.xlabel('épocas')\n",
    "plt.ylabel('acurácia')\n",
    "plt.legend(['treino','avaliação'])"
   ]
  },
  {
   "cell_type": "code",
   "execution_count": 5,
   "metadata": {},
   "outputs": [
    {
     "data": {
      "text/plain": [
       "<matplotlib.legend.Legend at 0x23ba14949b0>"
      ]
     },
     "execution_count": 5,
     "metadata": {},
     "output_type": "execute_result"
    },
    {
     "data": {
      "image/png": "[encoded data removed]",
      "text/plain": [
       "<Figure size 432x288 with 1 Axes>"
      ]
     },
     "metadata": {
      "needs_background": "light"
     },
     "output_type": "display_data"
    }
   ],
   "source": [
    "plt.plot(historico.history['loss'])\n",
    "plt.plot(historico.history['val_loss'])\n",
    "plt.title('Perda por épocas')\n",
    "plt.xlabel('épocas')\n",
    "plt.ylabel('perda')\n",
    "plt.legend(['treino','avaliação'])"
   ]
  },
  {
   "cell_type": "markdown",
   "metadata": {},
   "source": [
    "#### Quando os dados de treino estão melhores que os dados de avaliação, existe algo errado.. é necessário fazer tratamento..  mostrando que o modelo está ficando vicíado nos dados de teste."
   ]
  },
  {
   "cell_type": "code",
   "execution_count": 10,
   "metadata": {},
   "outputs": [
    {
     "name": "stdout",
     "output_type": "stream",
     "text": [
      "resultado teste: 4\n",
      "número da imagem de teste: 4\n"
     ]
    }
   ],
   "source": [
    "testes = modelo.predict(imagens_teste)\n",
    "print('resultado teste:',np.argmax(testes[50]))\n",
    "print('número da imagem de teste:',identificacoes_teste[50])"
   ]
  },
  {
   "cell_type": "code",
   "execution_count": 18,
   "metadata": {},
   "outputs": [
    {
     "name": "stdout",
     "output_type": "stream",
     "text": [
      "10000/10000 [==============================] - 0s 30us/sample - loss: 69.7668 - acc: 0.8414\n",
      "Perda do teste: 69.76681628266573\n",
      "Acuracia do teste: 0.8414\n"
     ]
    }
   ],
   "source": [
    "# vamos executar uma avaliação do nosso modelo\n",
    "\n",
    "perda_teste,acuracia_teste = modelo.evaluate(imagens_teste,identificacoes_teste)   # ( perda, acuracia)\n",
    "\n",
    "print('Perda do teste:',perda_teste)\n",
    "print('Acuracia do teste:', acuracia_teste)"
   ]
  },
  {
   "cell_type": "markdown",
   "metadata": {},
   "source": [
    "### Vamos utilizar outra técnica para melhorar os nossos dados.. vamos deixar alguns neuroneos dormentes"
   ]
  },
  {
   "cell_type": "code",
   "execution_count": 3,
   "metadata": {},
   "outputs": [
    {
     "name": "stdout",
     "output_type": "stream",
     "text": [
      "WARNING:tensorflow:From C:\\Users\\Guilherme\\Anaconda3\\lib\\site-packages\\tensorflow_core\\python\\ops\\resource_variable_ops.py:1630: calling BaseResourceVariable.__init__ (from tensorflow.python.ops.resource_variable_ops) with constraint is deprecated and will be removed in a future version.\n",
      "Instructions for updating:\n",
      "If using Keras pass *_constraint arguments to layers.\n",
      "Train on 48000 samples, validate on 12000 samples\n",
      "WARNING:tensorflow:OMP_NUM_THREADS is no longer used by the default Keras config. To configure the number of threads, use tf.config.threading APIs.\n",
      "Epoch 1/5\n",
      "48000/48000 [==============================] - 5s 96us/sample - loss: 0.5297 - acc: 0.8122 - val_loss: 0.4466 - val_acc: 0.8434\n",
      "Epoch 2/5\n",
      "48000/48000 [==============================] - 5s 101us/sample - loss: 0.3981 - acc: 0.8569 - val_loss: 0.3897 - val_acc: 0.8571\n",
      "Epoch 3/5\n",
      "48000/48000 [==============================] - 4s 89us/sample - loss: 0.3578 - acc: 0.8678 - val_loss: 0.3597 - val_acc: 0.8704\n",
      "Epoch 4/5\n",
      "48000/48000 [==============================] - 4s 87us/sample - loss: 0.3407 - acc: 0.8749 - val_loss: 0.3527 - val_acc: 0.8705\n",
      "Epoch 5/5\n",
      "48000/48000 [==============================] - 4s 92us/sample - loss: 0.3198 - acc: 0.8822 - val_loss: 0.3272 - val_acc: 0.8808\n"
     ]
    }
   ],
   "source": [
    "imagens_treino = imagens_treino/float(255) # Normalização da imagem\n",
    "\n",
    "modelo = keras.Sequential([ \n",
    "    keras.layers.Flatten(input_shape = (28,28)),\n",
    "    keras.layers.Dense(256,activation=tensorflow.nn.relu),\n",
    "    keras.layers.Dropout(0.2), # porcentagem de neuronios dormentes\n",
    "    keras.layers.Dense(10,activation=tensorflow.nn.softmax)\n",
    "                                               ])  \n",
    "\n",
    "modelo.compile(optimizer='adam', loss='sparse_categorical_crossentropy',\n",
    "               metrics=['accuracy']) # variavel para saber o quanto estamos acertando \n",
    "\n",
    "historico = modelo.fit(imagens_treino,identificacoes_treino,epochs=5, validation_split=0.2) # vamos aumentar a quantidade de vezes que o algoritimo passa pelas imagens "
   ]
  },
  {
   "cell_type": "code",
   "execution_count": 4,
   "metadata": {},
   "outputs": [
    {
     "data": {
      "text/plain": [
       "<matplotlib.legend.Legend at 0x18a7c983588>"
      ]
     },
     "execution_count": 4,
     "metadata": {},
     "output_type": "execute_result"
    },
    {
     "data": {
      "image/png": "[encoded data removed]",
      "text/plain": [
       "<Figure size 432x288 with 1 Axes>"
      ]
     },
     "metadata": {
      "needs_background": "light"
     },
     "output_type": "display_data"
    }
   ],
   "source": [
    "plt.plot(historico.history['acc'])\n",
    "plt.plot(historico.history['val_acc'])\n",
    "plt.title('Acurácia por épocas')\n",
    "plt.xlabel('épocas')\n",
    "plt.ylabel('acurácia')\n",
    "plt.legend(['treino','avaliação'])"
   ]
  },
  {
   "cell_type": "code",
   "execution_count": 5,
   "metadata": {},
   "outputs": [
    {
     "data": {
      "text/plain": [
       "<matplotlib.legend.Legend at 0x18a7cc8b0b8>"
      ]
     },
     "execution_count": 5,
     "metadata": {},
     "output_type": "execute_result"
    },
    {
     "data": {
      "image/png": "[encoded data removed]",
      "text/plain": [
       "<Figure size 432x288 with 1 Axes>"
      ]
     },
     "metadata": {
      "needs_background": "light"
     },
     "output_type": "display_data"
    }
   ],
   "source": [
    "plt.plot(historico.history['loss'])\n",
    "plt.plot(historico.history['val_loss'])\n",
    "plt.title('Perda por épocas')\n",
    "plt.xlabel('épocas')\n",
    "plt.ylabel('perda')\n",
    "plt.legend(['treino','avaliação'])"
   ]
  },
  {
   "cell_type": "markdown",
   "metadata": {},
   "source": [
    "### Vamos salvar nosso modelo "
   ]
  },
  {
   "cell_type": "code",
   "execution_count": 7,
   "metadata": {},
   "outputs": [],
   "source": [
    "from tensorflow.keras.models import load_model"
   ]
  },
  {
   "cell_type": "code",
   "execution_count": 8,
   "metadata": {},
   "outputs": [
    {
     "name": "stdout",
     "output_type": "stream",
     "text": [
      "WARNING:tensorflow:From C:\\Users\\Guilherme\\Anaconda3\\lib\\site-packages\\tensorflow_core\\python\\ops\\init_ops.py:97: calling GlorotUniform.__init__ (from tensorflow.python.ops.init_ops) with dtype is deprecated and will be removed in a future version.\n",
      "Instructions for updating:\n",
      "Call initializer instance with the dtype argument instead of passing it to the constructor\n",
      "WARNING:tensorflow:From C:\\Users\\Guilherme\\Anaconda3\\lib\\site-packages\\tensorflow_core\\python\\ops\\init_ops.py:97: calling Zeros.__init__ (from tensorflow.python.ops.init_ops) with dtype is deprecated and will be removed in a future version.\n",
      "Instructions for updating:\n",
      "Call initializer instance with the dtype argument instead of passing it to the constructor\n"
     ]
    }
   ],
   "source": [
    "modelo.save('modelo.h5') # salva o modelo\n",
    "\n",
    "modelo_salvo = load_model('modelo.h5') # importa o modelo "
   ]
  },
  {
   "cell_type": "code",
   "execution_count": 12,
   "metadata": {},
   "outputs": [
    {
     "name": "stdout",
     "output_type": "stream",
     "text": [
      "resultado teste: 2\n",
      "número da imagem de teste: 2\n",
      "\n",
      "resultado teste modelo salvo: 2\n",
      "número da imagem de teste: 2\n"
     ]
    }
   ],
   "source": [
    "# teste dos modelos:\n",
    "\n",
    "testes = modelo.predict(imagens_teste)\n",
    "print('resultado teste:',np.argmax(testes[1]))\n",
    "print('número da imagem de teste:',identificacoes_teste[1])\n",
    "print()\n",
    "\n",
    "teste_modelo_salvo = modelo_salvo.predict(imagens_teste)\n",
    "print('resultado teste modelo salvo:', np.argmax(teste_modelo_salvo[1]))\n",
    "print('número da imagem de teste:',identificacoes_teste[1])"
   ]
  },
  {
   "cell_type": "markdown",
   "metadata": {},
   "source": [
    "### Organizando o código"
   ]
  },
  {
   "cell_type": "markdown",
   "metadata": {},
   "source": [
    "Importar"
   ]
  },
  {
   "cell_type": "code",
   "execution_count": null,
   "metadata": {},
   "outputs": [],
   "source": [
    "import tensorflow\n",
    "from tensorflow import keras\n",
    "from scipy import ndimage \n",
    "import pandas as pd\n",
    "import numpy as np\n",
    "import matplotlib.pyplot as plt\n",
    "from tensorflow.keras.models import load_model"
   ]
  },
  {
   "cell_type": "markdown",
   "metadata": {},
   "source": [
    "Exibição dos dados"
   ]
  },
  {
   "cell_type": "code",
   "execution_count": null,
   "metadata": {},
   "outputs": [],
   "source": [
    "total_de_classificacoes = 10\n",
    "nome_de_classificacoes =['Camiseta',\n",
    "'Calça','Pullover','Vestido','Casaco','Sandália',\n",
    "'Camiseta','Tênis','Bolsa','Bota']\n",
    "\n",
    "plt.imshow(imagens_treino[0])\n",
    "plt.colorbar()"
   ]
  },
  {
   "cell_type": "markdown",
   "metadata": {},
   "source": [
    "Normalizando as imagens"
   ]
  },
  {
   "cell_type": "code",
   "execution_count": 14,
   "metadata": {},
   "outputs": [],
   "source": [
    "imagens_treino = imagens_treino/float(255)"
   ]
  },
  {
   "cell_type": "markdown",
   "metadata": {},
   "source": [
    "Criando,copilando, treinando e normalizando com dropout o modelo"
   ]
  },
  {
   "cell_type": "code",
   "execution_count": null,
   "metadata": {},
   "outputs": [],
   "source": [
    "#\n",
    "modelo = keras.Sequential([ \n",
    "    keras.layers.Flatten(input_shape = (28,28)),\n",
    "    keras.layers.Dense(256,activation=tensorflow.nn.relu),\n",
    "    keras.layers.Dropout(0.2), \n",
    "    keras.layers.Dense(10,activation=tensorflow.nn.softmax)\n",
    "                                               ])  \n",
    "\n",
    "#\n",
    "modelo.compile(optimizer='adam', loss='sparse_categorical_crossentropy',\n",
    "               metrics=['accuracy'])  \n",
    "\n",
    "#\n",
    "historico = modelo.fit(imagens_treino,identificacoes_treino,epochs=5, validation_split=0.2) "
   ]
  },
  {
   "cell_type": "markdown",
   "metadata": {},
   "source": [
    "Salvando e carregando o modelo"
   ]
  },
  {
   "cell_type": "code",
   "execution_count": null,
   "metadata": {},
   "outputs": [],
   "source": [
    "modelo.save('modelo.h5') # salva o modelo\n",
    "\n",
    "modelo_salvo = load_model('modelo.h5') # importa o modelo "
   ]
  },
  {
   "cell_type": "markdown",
   "metadata": {},
   "source": [
    "Visualizando as acurácias - Treino e Validação por época  "
   ]
  },
  {
   "cell_type": "code",
   "execution_count": null,
   "metadata": {},
   "outputs": [],
   "source": [
    "plt.plot(historico.history['acc'])\n",
    "plt.plot(historico.history['val_acc'])\n",
    "plt.title('Acurácia por épocas')\n",
    "plt.xlabel('épocas')\n",
    "plt.ylabel('acurácia')\n",
    "plt.legend(['treino','avaliação'])"
   ]
  },
  {
   "cell_type": "markdown",
   "metadata": {},
   "source": [
    "Visualizando as perdas - Treino e Validação por época"
   ]
  },
  {
   "cell_type": "code",
   "execution_count": null,
   "metadata": {},
   "outputs": [],
   "source": [
    "plt.plot(historico.history['loss'])\n",
    "plt.plot(historico.history['val_loss'])\n",
    "plt.title('Perda por épocas')\n",
    "plt.xlabel('épocas')\n",
    "plt.ylabel('perda')\n",
    "plt.legend(['treino','avaliação'])"
   ]
  },
  {
   "cell_type": "markdown",
   "metadata": {},
   "source": [
    "Teste do modelo e o modelo salvo"
   ]
  },
  {
   "cell_type": "code",
   "execution_count": null,
   "metadata": {},
   "outputs": [],
   "source": [
    "testes = modelo.predict(imagens_teste)\n",
    "print('resultado teste:',np.argmax(testes[1]))\n",
    "print('número da imagem de teste:',identificacoes_teste[1])\n",
    "print()\n",
    "\n",
    "teste_modelo_salvo = modelo_salvo.predict(imagens_teste)\n",
    "print('resultado teste modelo salvo:', np.argmax(teste_modelo_salvo[1]))\n",
    "print('número da imagem de teste:',identificacoes_teste[1])"
   ]
  },
  {
   "cell_type": "code",
   "execution_count": null,
   "metadata": {},
   "outputs": [],
   "source": []
  }
 ],
 "metadata": {
  "kernelspec": {
   "display_name": "Python 3",
   "language": "python",
   "name": "python3"
  },
  "language_info": {
   "codemirror_mode": {
    "name": "ipython",
    "version": 3
   },
   "file_extension": ".py",
   "mimetype": "text/x-python",
   "name": "python",
   "nbconvert_exporter": "python",
   "pygments_lexer": "ipython3",
   "version": "3.7.3"
  }
 },
 "nbformat": 4,
 "nbformat_minor": 2
}
